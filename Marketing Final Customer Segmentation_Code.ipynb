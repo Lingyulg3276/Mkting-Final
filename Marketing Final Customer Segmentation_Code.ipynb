{
 "cells": [
  {
   "cell_type": "code",
   "execution_count": null,
   "metadata": {},
   "outputs": [],
   "source": []
  },
  {
   "cell_type": "markdown",
   "metadata": {},
   "source": [
    "# Data-Processing"
   ]
  },
  {
   "cell_type": "code",
   "execution_count": 7,
   "metadata": {},
   "outputs": [],
   "source": [
    "import numpy as np\n",
    "import pandas as pd\n",
    "import matplotlib.pyplot as plt"
   ]
  },
  {
   "cell_type": "code",
   "execution_count": 8,
   "metadata": {},
   "outputs": [
    {
     "data": {
      "text/html": [
       "<div>\n",
       "<style scoped>\n",
       "    .dataframe tbody tr th:only-of-type {\n",
       "        vertical-align: middle;\n",
       "    }\n",
       "\n",
       "    .dataframe tbody tr th {\n",
       "        vertical-align: top;\n",
       "    }\n",
       "\n",
       "    .dataframe thead th {\n",
       "        text-align: right;\n",
       "    }\n",
       "</style>\n",
       "<table border=\"1\" class=\"dataframe\">\n",
       "  <thead>\n",
       "    <tr style=\"text-align: right;\">\n",
       "      <th></th>\n",
       "      <th>Unnamed: 0</th>\n",
       "      <th>subid</th>\n",
       "      <th>package_type</th>\n",
       "      <th>num_weekly_services_utilized</th>\n",
       "      <th>preferred_genre</th>\n",
       "      <th>intended_use</th>\n",
       "      <th>weekly_consumption_hour</th>\n",
       "      <th>num_ideal_streaming_services</th>\n",
       "      <th>age</th>\n",
       "      <th>male_TF</th>\n",
       "      <th>...</th>\n",
       "      <th>join_fee</th>\n",
       "      <th>language</th>\n",
       "      <th>payment_type</th>\n",
       "      <th>num_trial_days</th>\n",
       "      <th>current_sub_TF</th>\n",
       "      <th>payment_period</th>\n",
       "      <th>last_payment</th>\n",
       "      <th>next_payment</th>\n",
       "      <th>cancel_date</th>\n",
       "      <th>trial_completed</th>\n",
       "    </tr>\n",
       "  </thead>\n",
       "  <tbody>\n",
       "    <tr>\n",
       "      <th>0</th>\n",
       "      <td>162502</td>\n",
       "      <td>21724479</td>\n",
       "      <td>economy</td>\n",
       "      <td>NaN</td>\n",
       "      <td>comedy</td>\n",
       "      <td>access to exclusive content</td>\n",
       "      <td>NaN</td>\n",
       "      <td>NaN</td>\n",
       "      <td>NaN</td>\n",
       "      <td>False</td>\n",
       "      <td>...</td>\n",
       "      <td>NaN</td>\n",
       "      <td>ar</td>\n",
       "      <td>Standard Charter</td>\n",
       "      <td>14</td>\n",
       "      <td>True</td>\n",
       "      <td>1</td>\n",
       "      <td>2020-02-07 21:44:00</td>\n",
       "      <td>2020-06-07 21:44:00</td>\n",
       "      <td>NaT</td>\n",
       "      <td>True</td>\n",
       "    </tr>\n",
       "    <tr>\n",
       "      <th>1</th>\n",
       "      <td>380374</td>\n",
       "      <td>23383224</td>\n",
       "      <td>base</td>\n",
       "      <td>NaN</td>\n",
       "      <td>comedy</td>\n",
       "      <td>access to exclusive content</td>\n",
       "      <td>22.951579</td>\n",
       "      <td>NaN</td>\n",
       "      <td>70.0</td>\n",
       "      <td>False</td>\n",
       "      <td>...</td>\n",
       "      <td>0.3303</td>\n",
       "      <td>ar</td>\n",
       "      <td>NaN</td>\n",
       "      <td>14</td>\n",
       "      <td>True</td>\n",
       "      <td>1</td>\n",
       "      <td>2020-03-15 15:44:00</td>\n",
       "      <td>2020-07-15 15:44:00</td>\n",
       "      <td>NaT</td>\n",
       "      <td>True</td>\n",
       "    </tr>\n",
       "    <tr>\n",
       "      <th>2</th>\n",
       "      <td>496617</td>\n",
       "      <td>26844789</td>\n",
       "      <td>enhanced</td>\n",
       "      <td>3.0</td>\n",
       "      <td>regional</td>\n",
       "      <td>replace OTT</td>\n",
       "      <td>36.001186</td>\n",
       "      <td>2.0</td>\n",
       "      <td>25.0</td>\n",
       "      <td>True</td>\n",
       "      <td>...</td>\n",
       "      <td>0.1101</td>\n",
       "      <td>ar</td>\n",
       "      <td>NaN</td>\n",
       "      <td>14</td>\n",
       "      <td>False</td>\n",
       "      <td>0</td>\n",
       "      <td>NaT</td>\n",
       "      <td>NaT</td>\n",
       "      <td>NaT</td>\n",
       "      <td>True</td>\n",
       "    </tr>\n",
       "    <tr>\n",
       "      <th>3</th>\n",
       "      <td>356799</td>\n",
       "      <td>29417030</td>\n",
       "      <td>base</td>\n",
       "      <td>NaN</td>\n",
       "      <td>drama</td>\n",
       "      <td>replace OTT</td>\n",
       "      <td>20.051667</td>\n",
       "      <td>NaN</td>\n",
       "      <td>30.0</td>\n",
       "      <td>False</td>\n",
       "      <td>...</td>\n",
       "      <td>0.0367</td>\n",
       "      <td>ar</td>\n",
       "      <td>NaN</td>\n",
       "      <td>14</td>\n",
       "      <td>False</td>\n",
       "      <td>0</td>\n",
       "      <td>NaT</td>\n",
       "      <td>NaT</td>\n",
       "      <td>NaT</td>\n",
       "      <td>True</td>\n",
       "    </tr>\n",
       "    <tr>\n",
       "      <th>4</th>\n",
       "      <td>681701</td>\n",
       "      <td>26723159</td>\n",
       "      <td>base</td>\n",
       "      <td>4.0</td>\n",
       "      <td>comedy</td>\n",
       "      <td>replace OTT</td>\n",
       "      <td>22.951579</td>\n",
       "      <td>3.0</td>\n",
       "      <td>28.0</td>\n",
       "      <td>False</td>\n",
       "      <td>...</td>\n",
       "      <td>0.0367</td>\n",
       "      <td>ar</td>\n",
       "      <td>NaN</td>\n",
       "      <td>14</td>\n",
       "      <td>True</td>\n",
       "      <td>2</td>\n",
       "      <td>2020-02-19 12:57:00</td>\n",
       "      <td>2020-06-19 12:57:00</td>\n",
       "      <td>NaT</td>\n",
       "      <td>True</td>\n",
       "    </tr>\n",
       "  </tbody>\n",
       "</table>\n",
       "<p>5 rows × 31 columns</p>\n",
       "</div>"
      ],
      "text/plain": [
       "   Unnamed: 0     subid package_type  num_weekly_services_utilized  \\\n",
       "0      162502  21724479      economy                           NaN   \n",
       "1      380374  23383224         base                           NaN   \n",
       "2      496617  26844789     enhanced                           3.0   \n",
       "3      356799  29417030         base                           NaN   \n",
       "4      681701  26723159         base                           4.0   \n",
       "\n",
       "  preferred_genre                 intended_use  weekly_consumption_hour  \\\n",
       "0          comedy  access to exclusive content                      NaN   \n",
       "1          comedy  access to exclusive content                22.951579   \n",
       "2        regional                  replace OTT                36.001186   \n",
       "3           drama                  replace OTT                20.051667   \n",
       "4          comedy                  replace OTT                22.951579   \n",
       "\n",
       "   num_ideal_streaming_services   age male_TF  ... join_fee language  \\\n",
       "0                           NaN   NaN   False  ...      NaN       ar   \n",
       "1                           NaN  70.0   False  ...   0.3303       ar   \n",
       "2                           2.0  25.0    True  ...   0.1101       ar   \n",
       "3                           NaN  30.0   False  ...   0.0367       ar   \n",
       "4                           3.0  28.0   False  ...   0.0367       ar   \n",
       "\n",
       "       payment_type num_trial_days  current_sub_TF payment_period  \\\n",
       "0  Standard Charter             14            True              1   \n",
       "1               NaN             14            True              1   \n",
       "2               NaN             14           False              0   \n",
       "3               NaN             14           False              0   \n",
       "4               NaN             14            True              2   \n",
       "\n",
       "         last_payment        next_payment cancel_date trial_completed  \n",
       "0 2020-02-07 21:44:00 2020-06-07 21:44:00         NaT            True  \n",
       "1 2020-03-15 15:44:00 2020-07-15 15:44:00         NaT            True  \n",
       "2                 NaT                 NaT         NaT            True  \n",
       "3                 NaT                 NaT         NaT            True  \n",
       "4 2020-02-19 12:57:00 2020-06-19 12:57:00         NaT            True  \n",
       "\n",
       "[5 rows x 31 columns]"
      ]
     },
     "execution_count": 8,
     "metadata": {},
     "output_type": "execute_result"
    }
   ],
   "source": [
    "subscribers = pd.read_csv('subscribers.csv', parse_dates = ['account_creation_date', 'trial_end_date','last_payment','next_payment','cancel_date'])\n",
    "subscribers.head()\n"
   ]
  },
  {
   "cell_type": "code",
   "execution_count": 9,
   "metadata": {},
   "outputs": [],
   "source": [
    "#subscribers.info() "
   ]
  },
  {
   "cell_type": "code",
   "execution_count": 10,
   "metadata": {},
   "outputs": [
    {
     "data": {
      "text/plain": [
       "(227628, 31)"
      ]
     },
     "execution_count": 10,
     "metadata": {},
     "output_type": "execute_result"
    }
   ],
   "source": [
    "subscribers.shape"
   ]
  },
  {
   "cell_type": "code",
   "execution_count": 5,
   "metadata": {},
   "outputs": [],
   "source": [
    "#subscribers.isnull().sum()\n"
   ]
  },
  {
   "cell_type": "code",
   "execution_count": 6,
   "metadata": {},
   "outputs": [],
   "source": [
    "#subscribers.describe() "
   ]
  },
  {
   "cell_type": "code",
   "execution_count": 11,
   "metadata": {},
   "outputs": [
    {
     "data": {
      "text/plain": [
       "Index(['serial_number', 'subid', 'package_type',\n",
       "       'num_weekly_services_utilized', 'preferred_genre', 'intended_use',\n",
       "       'weekly_consumption_hour', 'num_ideal_streaming_services', 'age',\n",
       "       'male_TF', 'country', 'attribution_technical', 'attribution_survey',\n",
       "       'op_sys', 'months_per_bill_period', 'plan_type', 'monthly_price',\n",
       "       'discount_price', 'account_creation_date', 'trial_end_date',\n",
       "       'initial_credit_card_declined', 'join_fee', 'language', 'payment_type',\n",
       "       'num_trial_days', 'current_sub_TF', 'payment_period', 'last_payment',\n",
       "       'next_payment', 'cancel_date', 'trial_completed'],\n",
       "      dtype='object')"
      ]
     },
     "execution_count": 11,
     "metadata": {},
     "output_type": "execute_result"
    }
   ],
   "source": [
    "subscribers.rename(columns={\n",
    "    'Unnamed: 0': 'serial_number', \n",
    "}, inplace=True)\n",
    "\n",
    "subscribers.columns"
   ]
  },
  {
   "cell_type": "code",
   "execution_count": null,
   "metadata": {},
   "outputs": [],
   "source": []
  },
  {
   "cell_type": "code",
   "execution_count": null,
   "metadata": {},
   "outputs": [],
   "source": []
  },
  {
   "cell_type": "markdown",
   "metadata": {},
   "source": [
    "-------"
   ]
  },
  {
   "cell_type": "markdown",
   "metadata": {},
   "source": [
    "# Customer Segmentation"
   ]
  },
  {
   "cell_type": "code",
   "execution_count": 12,
   "metadata": {},
   "outputs": [
    {
     "data": {
      "text/html": [
       "<div>\n",
       "<style scoped>\n",
       "    .dataframe tbody tr th:only-of-type {\n",
       "        vertical-align: middle;\n",
       "    }\n",
       "\n",
       "    .dataframe tbody tr th {\n",
       "        vertical-align: top;\n",
       "    }\n",
       "\n",
       "    .dataframe thead th {\n",
       "        text-align: right;\n",
       "    }\n",
       "</style>\n",
       "<table border=\"1\" class=\"dataframe\">\n",
       "  <thead>\n",
       "    <tr style=\"text-align: right;\">\n",
       "      <th></th>\n",
       "      <th>serial_number</th>\n",
       "      <th>subid</th>\n",
       "      <th>package_type</th>\n",
       "      <th>num_weekly_services_utilized</th>\n",
       "      <th>preferred_genre</th>\n",
       "      <th>intended_use</th>\n",
       "      <th>weekly_consumption_hour</th>\n",
       "      <th>num_ideal_streaming_services</th>\n",
       "      <th>age</th>\n",
       "      <th>male_TF</th>\n",
       "      <th>...</th>\n",
       "      <th>join_fee</th>\n",
       "      <th>language</th>\n",
       "      <th>payment_type</th>\n",
       "      <th>num_trial_days</th>\n",
       "      <th>current_sub_TF</th>\n",
       "      <th>payment_period</th>\n",
       "      <th>last_payment</th>\n",
       "      <th>next_payment</th>\n",
       "      <th>cancel_date</th>\n",
       "      <th>trial_completed</th>\n",
       "    </tr>\n",
       "  </thead>\n",
       "  <tbody>\n",
       "    <tr>\n",
       "      <th>0</th>\n",
       "      <td>162502</td>\n",
       "      <td>21724479</td>\n",
       "      <td>economy</td>\n",
       "      <td>NaN</td>\n",
       "      <td>comedy</td>\n",
       "      <td>access to exclusive content</td>\n",
       "      <td>NaN</td>\n",
       "      <td>NaN</td>\n",
       "      <td>NaN</td>\n",
       "      <td>False</td>\n",
       "      <td>...</td>\n",
       "      <td>NaN</td>\n",
       "      <td>ar</td>\n",
       "      <td>Standard Charter</td>\n",
       "      <td>14</td>\n",
       "      <td>True</td>\n",
       "      <td>1</td>\n",
       "      <td>2020-02-07 21:44:00</td>\n",
       "      <td>2020-06-07 21:44:00</td>\n",
       "      <td>NaT</td>\n",
       "      <td>True</td>\n",
       "    </tr>\n",
       "    <tr>\n",
       "      <th>1</th>\n",
       "      <td>380374</td>\n",
       "      <td>23383224</td>\n",
       "      <td>base</td>\n",
       "      <td>NaN</td>\n",
       "      <td>comedy</td>\n",
       "      <td>access to exclusive content</td>\n",
       "      <td>22.951579</td>\n",
       "      <td>NaN</td>\n",
       "      <td>70.0</td>\n",
       "      <td>False</td>\n",
       "      <td>...</td>\n",
       "      <td>0.3303</td>\n",
       "      <td>ar</td>\n",
       "      <td>NaN</td>\n",
       "      <td>14</td>\n",
       "      <td>True</td>\n",
       "      <td>1</td>\n",
       "      <td>2020-03-15 15:44:00</td>\n",
       "      <td>2020-07-15 15:44:00</td>\n",
       "      <td>NaT</td>\n",
       "      <td>True</td>\n",
       "    </tr>\n",
       "    <tr>\n",
       "      <th>2</th>\n",
       "      <td>496617</td>\n",
       "      <td>26844789</td>\n",
       "      <td>enhanced</td>\n",
       "      <td>3.0</td>\n",
       "      <td>regional</td>\n",
       "      <td>replace OTT</td>\n",
       "      <td>36.001186</td>\n",
       "      <td>2.0</td>\n",
       "      <td>25.0</td>\n",
       "      <td>True</td>\n",
       "      <td>...</td>\n",
       "      <td>0.1101</td>\n",
       "      <td>ar</td>\n",
       "      <td>NaN</td>\n",
       "      <td>14</td>\n",
       "      <td>False</td>\n",
       "      <td>0</td>\n",
       "      <td>NaT</td>\n",
       "      <td>NaT</td>\n",
       "      <td>NaT</td>\n",
       "      <td>True</td>\n",
       "    </tr>\n",
       "    <tr>\n",
       "      <th>3</th>\n",
       "      <td>356799</td>\n",
       "      <td>29417030</td>\n",
       "      <td>base</td>\n",
       "      <td>NaN</td>\n",
       "      <td>drama</td>\n",
       "      <td>replace OTT</td>\n",
       "      <td>20.051667</td>\n",
       "      <td>NaN</td>\n",
       "      <td>30.0</td>\n",
       "      <td>False</td>\n",
       "      <td>...</td>\n",
       "      <td>0.0367</td>\n",
       "      <td>ar</td>\n",
       "      <td>NaN</td>\n",
       "      <td>14</td>\n",
       "      <td>False</td>\n",
       "      <td>0</td>\n",
       "      <td>NaT</td>\n",
       "      <td>NaT</td>\n",
       "      <td>NaT</td>\n",
       "      <td>True</td>\n",
       "    </tr>\n",
       "    <tr>\n",
       "      <th>4</th>\n",
       "      <td>681701</td>\n",
       "      <td>26723159</td>\n",
       "      <td>base</td>\n",
       "      <td>4.0</td>\n",
       "      <td>comedy</td>\n",
       "      <td>replace OTT</td>\n",
       "      <td>22.951579</td>\n",
       "      <td>3.0</td>\n",
       "      <td>28.0</td>\n",
       "      <td>False</td>\n",
       "      <td>...</td>\n",
       "      <td>0.0367</td>\n",
       "      <td>ar</td>\n",
       "      <td>NaN</td>\n",
       "      <td>14</td>\n",
       "      <td>True</td>\n",
       "      <td>2</td>\n",
       "      <td>2020-02-19 12:57:00</td>\n",
       "      <td>2020-06-19 12:57:00</td>\n",
       "      <td>NaT</td>\n",
       "      <td>True</td>\n",
       "    </tr>\n",
       "  </tbody>\n",
       "</table>\n",
       "<p>5 rows × 31 columns</p>\n",
       "</div>"
      ],
      "text/plain": [
       "   serial_number     subid package_type  num_weekly_services_utilized  \\\n",
       "0         162502  21724479      economy                           NaN   \n",
       "1         380374  23383224         base                           NaN   \n",
       "2         496617  26844789     enhanced                           3.0   \n",
       "3         356799  29417030         base                           NaN   \n",
       "4         681701  26723159         base                           4.0   \n",
       "\n",
       "  preferred_genre                 intended_use  weekly_consumption_hour  \\\n",
       "0          comedy  access to exclusive content                      NaN   \n",
       "1          comedy  access to exclusive content                22.951579   \n",
       "2        regional                  replace OTT                36.001186   \n",
       "3           drama                  replace OTT                20.051667   \n",
       "4          comedy                  replace OTT                22.951579   \n",
       "\n",
       "   num_ideal_streaming_services   age male_TF  ... join_fee language  \\\n",
       "0                           NaN   NaN   False  ...      NaN       ar   \n",
       "1                           NaN  70.0   False  ...   0.3303       ar   \n",
       "2                           2.0  25.0    True  ...   0.1101       ar   \n",
       "3                           NaN  30.0   False  ...   0.0367       ar   \n",
       "4                           3.0  28.0   False  ...   0.0367       ar   \n",
       "\n",
       "       payment_type num_trial_days  current_sub_TF payment_period  \\\n",
       "0  Standard Charter             14            True              1   \n",
       "1               NaN             14            True              1   \n",
       "2               NaN             14           False              0   \n",
       "3               NaN             14           False              0   \n",
       "4               NaN             14            True              2   \n",
       "\n",
       "         last_payment        next_payment cancel_date trial_completed  \n",
       "0 2020-02-07 21:44:00 2020-06-07 21:44:00         NaT            True  \n",
       "1 2020-03-15 15:44:00 2020-07-15 15:44:00         NaT            True  \n",
       "2                 NaT                 NaT         NaT            True  \n",
       "3                 NaT                 NaT         NaT            True  \n",
       "4 2020-02-19 12:57:00 2020-06-19 12:57:00         NaT            True  \n",
       "\n",
       "[5 rows x 31 columns]"
      ]
     },
     "execution_count": 12,
     "metadata": {},
     "output_type": "execute_result"
    }
   ],
   "source": [
    "customer_seg = subscribers.copy(deep=False)\n",
    "customer_seg.head()"
   ]
  },
  {
   "cell_type": "code",
   "execution_count": 13,
   "metadata": {},
   "outputs": [],
   "source": [
    "#CusSeg_cols = customer_seg[['subid','package_type','num_weekly_services_utilized', 'preferred_genre','intended_use','weekly_consumption_hour','num_ideal_streaming_services','age','male_TF','attribution_technical','op_sys',]]  # notice the two layers of brackets\n",
    "\n",
    "#CusSeg_cols.head()\n"
   ]
  },
  {
   "cell_type": "code",
   "execution_count": null,
   "metadata": {},
   "outputs": [],
   "source": []
  },
  {
   "cell_type": "markdown",
   "metadata": {},
   "source": [
    "### Missing Values"
   ]
  },
  {
   "cell_type": "code",
   "execution_count": 14,
   "metadata": {},
   "outputs": [
    {
     "data": {
      "text/html": [
       "<div>\n",
       "<style scoped>\n",
       "    .dataframe tbody tr th:only-of-type {\n",
       "        vertical-align: middle;\n",
       "    }\n",
       "\n",
       "    .dataframe tbody tr th {\n",
       "        vertical-align: top;\n",
       "    }\n",
       "\n",
       "    .dataframe thead th {\n",
       "        text-align: right;\n",
       "    }\n",
       "</style>\n",
       "<table border=\"1\" class=\"dataframe\">\n",
       "  <thead>\n",
       "    <tr style=\"text-align: right;\">\n",
       "      <th></th>\n",
       "      <th>subid</th>\n",
       "      <th>package_type</th>\n",
       "      <th>num_weekly_services_utilized</th>\n",
       "      <th>preferred_genre</th>\n",
       "      <th>intended_use</th>\n",
       "      <th>weekly_consumption_hour</th>\n",
       "      <th>num_ideal_streaming_services</th>\n",
       "      <th>age</th>\n",
       "      <th>male_TF</th>\n",
       "      <th>attribution_technical</th>\n",
       "      <th>op_sys</th>\n",
       "    </tr>\n",
       "  </thead>\n",
       "  <tbody>\n",
       "    <tr>\n",
       "      <th>0</th>\n",
       "      <td>21724479</td>\n",
       "      <td>economy</td>\n",
       "      <td>NaN</td>\n",
       "      <td>comedy</td>\n",
       "      <td>access to exclusive content</td>\n",
       "      <td>NaN</td>\n",
       "      <td>NaN</td>\n",
       "      <td>NaN</td>\n",
       "      <td>False</td>\n",
       "      <td>facebook</td>\n",
       "      <td>Android</td>\n",
       "    </tr>\n",
       "    <tr>\n",
       "      <th>1</th>\n",
       "      <td>23383224</td>\n",
       "      <td>base</td>\n",
       "      <td>NaN</td>\n",
       "      <td>comedy</td>\n",
       "      <td>access to exclusive content</td>\n",
       "      <td>22.951579</td>\n",
       "      <td>NaN</td>\n",
       "      <td>70.0</td>\n",
       "      <td>False</td>\n",
       "      <td>facebook</td>\n",
       "      <td>NaN</td>\n",
       "    </tr>\n",
       "    <tr>\n",
       "      <th>2</th>\n",
       "      <td>26844789</td>\n",
       "      <td>enhanced</td>\n",
       "      <td>3.0</td>\n",
       "      <td>regional</td>\n",
       "      <td>replace OTT</td>\n",
       "      <td>36.001186</td>\n",
       "      <td>2.0</td>\n",
       "      <td>25.0</td>\n",
       "      <td>True</td>\n",
       "      <td>organic</td>\n",
       "      <td>iOS</td>\n",
       "    </tr>\n",
       "    <tr>\n",
       "      <th>3</th>\n",
       "      <td>29417030</td>\n",
       "      <td>base</td>\n",
       "      <td>NaN</td>\n",
       "      <td>drama</td>\n",
       "      <td>replace OTT</td>\n",
       "      <td>20.051667</td>\n",
       "      <td>NaN</td>\n",
       "      <td>30.0</td>\n",
       "      <td>False</td>\n",
       "      <td>search</td>\n",
       "      <td>Android</td>\n",
       "    </tr>\n",
       "    <tr>\n",
       "      <th>4</th>\n",
       "      <td>26723159</td>\n",
       "      <td>base</td>\n",
       "      <td>4.0</td>\n",
       "      <td>comedy</td>\n",
       "      <td>replace OTT</td>\n",
       "      <td>22.951579</td>\n",
       "      <td>3.0</td>\n",
       "      <td>28.0</td>\n",
       "      <td>False</td>\n",
       "      <td>discovery</td>\n",
       "      <td>iOS</td>\n",
       "    </tr>\n",
       "  </tbody>\n",
       "</table>\n",
       "</div>"
      ],
      "text/plain": [
       "      subid package_type  num_weekly_services_utilized preferred_genre  \\\n",
       "0  21724479      economy                           NaN          comedy   \n",
       "1  23383224         base                           NaN          comedy   \n",
       "2  26844789     enhanced                           3.0        regional   \n",
       "3  29417030         base                           NaN           drama   \n",
       "4  26723159         base                           4.0          comedy   \n",
       "\n",
       "                  intended_use  weekly_consumption_hour  \\\n",
       "0  access to exclusive content                      NaN   \n",
       "1  access to exclusive content                22.951579   \n",
       "2                  replace OTT                36.001186   \n",
       "3                  replace OTT                20.051667   \n",
       "4                  replace OTT                22.951579   \n",
       "\n",
       "   num_ideal_streaming_services   age male_TF attribution_technical   op_sys  \n",
       "0                           NaN   NaN   False              facebook  Android  \n",
       "1                           NaN  70.0   False              facebook      NaN  \n",
       "2                           2.0  25.0    True               organic      iOS  \n",
       "3                           NaN  30.0   False                search  Android  \n",
       "4                           3.0  28.0   False             discovery      iOS  "
      ]
     },
     "execution_count": 14,
     "metadata": {},
     "output_type": "execute_result"
    }
   ],
   "source": [
    "cusSeg_cols = customer_seg[['subid', 'package_type','num_weekly_services_utilized','preferred_genre',\n",
    "                           'intended_use','weekly_consumption_hour','num_ideal_streaming_services',\n",
    "                           'age','male_TF','attribution_technical','op_sys']] \n",
    "\n",
    "cusSeg_cols.head()\n"
   ]
  },
  {
   "cell_type": "code",
   "execution_count": 15,
   "metadata": {},
   "outputs": [
    {
     "data": {
      "text/plain": [
       "(227628, 11)"
      ]
     },
     "execution_count": 15,
     "metadata": {},
     "output_type": "execute_result"
    }
   ],
   "source": [
    "cusSeg_cols.shape"
   ]
  },
  {
   "cell_type": "code",
   "execution_count": 16,
   "metadata": {},
   "outputs": [
    {
     "name": "stdout",
     "output_type": "stream",
     "text": [
      "<class 'pandas.core.frame.DataFrame'>\n",
      "RangeIndex: 227628 entries, 0 to 227627\n",
      "Data columns (total 11 columns):\n",
      " #   Column                        Non-Null Count   Dtype  \n",
      "---  ------                        --------------   -----  \n",
      " 0   subid                         227628 non-null  int64  \n",
      " 1   package_type                  192054 non-null  object \n",
      " 2   num_weekly_services_utilized  117178 non-null  float64\n",
      " 3   preferred_genre               191302 non-null  object \n",
      " 4   intended_use                  224079 non-null  object \n",
      " 5   weekly_consumption_hour       189698 non-null  float64\n",
      " 6   num_ideal_streaming_services  115458 non-null  float64\n",
      " 7   age                           192459 non-null  float64\n",
      " 8   male_TF                       227359 non-null  object \n",
      " 9   attribution_technical         227628 non-null  object \n",
      " 10  op_sys                        214253 non-null  object \n",
      "dtypes: float64(4), int64(1), object(6)\n",
      "memory usage: 19.1+ MB\n"
     ]
    }
   ],
   "source": [
    "cusSeg_cols.info()"
   ]
  },
  {
   "cell_type": "code",
   "execution_count": 17,
   "metadata": {},
   "outputs": [
    {
     "data": {
      "text/plain": [
       "subid                                0\n",
       "package_type                     35574\n",
       "num_weekly_services_utilized    110450\n",
       "preferred_genre                  36326\n",
       "intended_use                      3549\n",
       "weekly_consumption_hour          37930\n",
       "num_ideal_streaming_services    112170\n",
       "age                              35169\n",
       "male_TF                            269\n",
       "attribution_technical                0\n",
       "op_sys                           13375\n",
       "dtype: int64"
      ]
     },
     "execution_count": 17,
     "metadata": {},
     "output_type": "execute_result"
    }
   ],
   "source": [
    "cusSeg_cols.isnull().sum()"
   ]
  },
  {
   "cell_type": "code",
   "execution_count": 18,
   "metadata": {},
   "outputs": [
    {
     "data": {
      "text/html": [
       "<div>\n",
       "<style scoped>\n",
       "    .dataframe tbody tr th:only-of-type {\n",
       "        vertical-align: middle;\n",
       "    }\n",
       "\n",
       "    .dataframe tbody tr th {\n",
       "        vertical-align: top;\n",
       "    }\n",
       "\n",
       "    .dataframe thead th {\n",
       "        text-align: right;\n",
       "    }\n",
       "</style>\n",
       "<table border=\"1\" class=\"dataframe\">\n",
       "  <thead>\n",
       "    <tr style=\"text-align: right;\">\n",
       "      <th></th>\n",
       "      <th>subid</th>\n",
       "      <th>num_weekly_services_utilized</th>\n",
       "      <th>weekly_consumption_hour</th>\n",
       "      <th>num_ideal_streaming_services</th>\n",
       "      <th>age</th>\n",
       "    </tr>\n",
       "  </thead>\n",
       "  <tbody>\n",
       "    <tr>\n",
       "      <th>count</th>\n",
       "      <td>2.276280e+05</td>\n",
       "      <td>117178.000000</td>\n",
       "      <td>189698.000000</td>\n",
       "      <td>115458.000000</td>\n",
       "      <td>1.924590e+05</td>\n",
       "    </tr>\n",
       "    <tr>\n",
       "      <th>mean</th>\n",
       "      <td>2.498624e+07</td>\n",
       "      <td>3.008824</td>\n",
       "      <td>27.997724</td>\n",
       "      <td>2.061260</td>\n",
       "      <td>7.579755e+02</td>\n",
       "    </tr>\n",
       "    <tr>\n",
       "      <th>std</th>\n",
       "      <td>2.885543e+06</td>\n",
       "      <td>0.820526</td>\n",
       "      <td>4.976341</td>\n",
       "      <td>0.245907</td>\n",
       "      <td>1.920204e+05</td>\n",
       "    </tr>\n",
       "    <tr>\n",
       "      <th>min</th>\n",
       "      <td>2.000001e+07</td>\n",
       "      <td>0.000000</td>\n",
       "      <td>-32.146760</td>\n",
       "      <td>-1.000000</td>\n",
       "      <td>0.000000e+00</td>\n",
       "    </tr>\n",
       "    <tr>\n",
       "      <th>25%</th>\n",
       "      <td>2.248998e+07</td>\n",
       "      <td>2.000000</td>\n",
       "      <td>24.401536</td>\n",
       "      <td>2.000000</td>\n",
       "      <td>3.500000e+01</td>\n",
       "    </tr>\n",
       "    <tr>\n",
       "      <th>50%</th>\n",
       "      <td>2.497011e+07</td>\n",
       "      <td>3.000000</td>\n",
       "      <td>27.301448</td>\n",
       "      <td>2.000000</td>\n",
       "      <td>4.600000e+01</td>\n",
       "    </tr>\n",
       "    <tr>\n",
       "      <th>75%</th>\n",
       "      <td>2.749020e+07</td>\n",
       "      <td>3.000000</td>\n",
       "      <td>30.201361</td>\n",
       "      <td>2.000000</td>\n",
       "      <td>5.700000e+01</td>\n",
       "    </tr>\n",
       "    <tr>\n",
       "      <th>max</th>\n",
       "      <td>2.999998e+07</td>\n",
       "      <td>14.000000</td>\n",
       "      <td>76.599962</td>\n",
       "      <td>7.000000</td>\n",
       "      <td>8.172000e+07</td>\n",
       "    </tr>\n",
       "  </tbody>\n",
       "</table>\n",
       "</div>"
      ],
      "text/plain": [
       "              subid  num_weekly_services_utilized  weekly_consumption_hour  \\\n",
       "count  2.276280e+05                 117178.000000            189698.000000   \n",
       "mean   2.498624e+07                      3.008824                27.997724   \n",
       "std    2.885543e+06                      0.820526                 4.976341   \n",
       "min    2.000001e+07                      0.000000               -32.146760   \n",
       "25%    2.248998e+07                      2.000000                24.401536   \n",
       "50%    2.497011e+07                      3.000000                27.301448   \n",
       "75%    2.749020e+07                      3.000000                30.201361   \n",
       "max    2.999998e+07                     14.000000                76.599962   \n",
       "\n",
       "       num_ideal_streaming_services           age  \n",
       "count                 115458.000000  1.924590e+05  \n",
       "mean                       2.061260  7.579755e+02  \n",
       "std                        0.245907  1.920204e+05  \n",
       "min                       -1.000000  0.000000e+00  \n",
       "25%                        2.000000  3.500000e+01  \n",
       "50%                        2.000000  4.600000e+01  \n",
       "75%                        2.000000  5.700000e+01  \n",
       "max                        7.000000  8.172000e+07  "
      ]
     },
     "execution_count": 18,
     "metadata": {},
     "output_type": "execute_result"
    }
   ],
   "source": [
    "cusSeg_cols.describe() "
   ]
  },
  {
   "cell_type": "markdown",
   "metadata": {},
   "source": [
    "#### num_weekly_services_utilized"
   ]
  },
  {
   "cell_type": "code",
   "execution_count": 19,
   "metadata": {},
   "outputs": [
    {
     "data": {
      "text/plain": [
       "<matplotlib.axes._subplots.AxesSubplot at 0x117c44df0>"
      ]
     },
     "execution_count": 19,
     "metadata": {},
     "output_type": "execute_result"
    },
    {
     "data": {
      "image/png": "[encoded data removed]",
      "text/plain": [
       "<Figure size 432x288 with 1 Axes>"
      ]
     },
     "metadata": {
      "needs_background": "light"
     },
     "output_type": "display_data"
    }
   ],
   "source": [
    "cusSeg_cols['num_weekly_services_utilized'].plot(kind='hist', title='num_weekly_services_utilized')\n"
   ]
  },
  {
   "cell_type": "code",
   "execution_count": 20,
   "metadata": {},
   "outputs": [
    {
     "data": {
      "text/plain": [
       "0    3.0\n",
       "dtype: float64"
      ]
     },
     "execution_count": 20,
     "metadata": {},
     "output_type": "execute_result"
    }
   ],
   "source": [
    "cusSeg_cols['num_weekly_services_utilized'].mode()"
   ]
  },
  {
   "cell_type": "code",
   "execution_count": 21,
   "metadata": {},
   "outputs": [
    {
     "data": {
      "text/plain": [
       "3.0088241820136887"
      ]
     },
     "execution_count": 21,
     "metadata": {},
     "output_type": "execute_result"
    }
   ],
   "source": [
    "cusSeg_cols['num_weekly_services_utilized'].mean()"
   ]
  },
  {
   "cell_type": "code",
   "execution_count": 22,
   "metadata": {},
   "outputs": [
    {
     "name": "stderr",
     "output_type": "stream",
     "text": [
      "<ipython-input-22-f8648148a8a1>:1: SettingWithCopyWarning: \n",
      "A value is trying to be set on a copy of a slice from a DataFrame.\n",
      "Try using .loc[row_indexer,col_indexer] = value instead\n",
      "\n",
      "See the caveats in the documentation: https://pandas.pydata.org/pandas-docs/stable/user_guide/indexing.html#returning-a-view-versus-a-copy\n",
      "  cusSeg_cols['num_weekly_services_utilized']=cusSeg_cols['num_weekly_services_utilized'].fillna(3)\n"
     ]
    }
   ],
   "source": [
    "cusSeg_cols['num_weekly_services_utilized']=cusSeg_cols['num_weekly_services_utilized'].fillna(3)\n",
    "\n"
   ]
  },
  {
   "cell_type": "markdown",
   "metadata": {},
   "source": [
    "#### num_ideal_streaming_services"
   ]
  },
  {
   "cell_type": "code",
   "execution_count": 23,
   "metadata": {},
   "outputs": [
    {
     "data": {
      "text/plain": [
       "<matplotlib.axes._subplots.AxesSubplot at 0x1191c7160>"
      ]
     },
     "execution_count": 23,
     "metadata": {},
     "output_type": "execute_result"
    },
    {
     "data": {
      "image/png": "[encoded data removed]",
      "text/plain": [
       "<Figure size 432x288 with 1 Axes>"
      ]
     },
     "metadata": {
      "needs_background": "light"
     },
     "output_type": "display_data"
    }
   ],
   "source": [
    "cusSeg_cols['num_ideal_streaming_services'].plot(kind='hist', title='num_ideal_streaming_services')\n"
   ]
  },
  {
   "cell_type": "code",
   "execution_count": 24,
   "metadata": {},
   "outputs": [
    {
     "data": {
      "text/plain": [
       "0    2.0\n",
       "dtype: float64"
      ]
     },
     "execution_count": 24,
     "metadata": {},
     "output_type": "execute_result"
    }
   ],
   "source": [
    "cusSeg_cols['num_ideal_streaming_services'].mode()\n"
   ]
  },
  {
   "cell_type": "code",
   "execution_count": 25,
   "metadata": {},
   "outputs": [
    {
     "name": "stderr",
     "output_type": "stream",
     "text": [
      "<ipython-input-25-40c55023df82>:1: SettingWithCopyWarning: \n",
      "A value is trying to be set on a copy of a slice from a DataFrame.\n",
      "Try using .loc[row_indexer,col_indexer] = value instead\n",
      "\n",
      "See the caveats in the documentation: https://pandas.pydata.org/pandas-docs/stable/user_guide/indexing.html#returning-a-view-versus-a-copy\n",
      "  cusSeg_cols['num_ideal_streaming_services']=cusSeg_cols['num_ideal_streaming_services'].fillna(3)\n"
     ]
    }
   ],
   "source": [
    "cusSeg_cols['num_ideal_streaming_services']=cusSeg_cols['num_ideal_streaming_services'].fillna(3)\n"
   ]
  },
  {
   "cell_type": "markdown",
   "metadata": {},
   "source": [
    "#### age"
   ]
  },
  {
   "cell_type": "code",
   "execution_count": 26,
   "metadata": {},
   "outputs": [
    {
     "data": {
      "text/plain": [
       "(227628, 11)"
      ]
     },
     "execution_count": 26,
     "metadata": {},
     "output_type": "execute_result"
    }
   ],
   "source": [
    "cusSeg_cols.shape"
   ]
  },
  {
   "cell_type": "code",
   "execution_count": 27,
   "metadata": {},
   "outputs": [
    {
     "data": {
      "text/plain": [
       "50.000000      6355\n",
       "40.000000      5509\n",
       "60.000000      5221\n",
       "48.000000      4651\n",
       "47.000000      4517\n",
       "               ... \n",
       "1816.000000       1\n",
       "34.426448         1\n",
       "5204.000000       1\n",
       "5193.000000       1\n",
       "540.000000        1\n",
       "Name: age, Length: 278, dtype: int64"
      ]
     },
     "execution_count": 27,
     "metadata": {},
     "output_type": "execute_result"
    }
   ],
   "source": [
    "cusSeg_cols['age'].value_counts()"
   ]
  },
  {
   "cell_type": "code",
   "execution_count": 28,
   "metadata": {},
   "outputs": [
    {
     "data": {
      "text/plain": [
       "(227590, 11)"
      ]
     },
     "execution_count": 28,
     "metadata": {},
     "output_type": "execute_result"
    }
   ],
   "source": [
    "cusSeg_cols = cusSeg_cols.drop(cusSeg_cols[cusSeg_cols['age'] >= 2010].index)\n",
    "cusSeg_cols.shape"
   ]
  },
  {
   "cell_type": "code",
   "execution_count": 29,
   "metadata": {},
   "outputs": [
    {
     "data": {
      "text/plain": [
       "(227523, 11)"
      ]
     },
     "execution_count": 29,
     "metadata": {},
     "output_type": "execute_result"
    }
   ],
   "source": [
    "cusSeg_cols = cusSeg_cols.drop(cusSeg_cols[cusSeg_cols['age'] <= 10].index)\n",
    "cusSeg_cols.shape"
   ]
  },
  {
   "cell_type": "code",
   "execution_count": 30,
   "metadata": {},
   "outputs": [
    {
     "data": {
      "text/plain": [
       "(227429, 11)"
      ]
     },
     "execution_count": 30,
     "metadata": {},
     "output_type": "execute_result"
    }
   ],
   "source": [
    "cusSeg_cols = cusSeg_cols.drop(cusSeg_cols[(cusSeg_cols['age'] >= 100) & (cusSeg_cols['age'] <= 1920)].index)\n",
    "cusSeg_cols.shape\n"
   ]
  },
  {
   "cell_type": "code",
   "execution_count": 31,
   "metadata": {},
   "outputs": [
    {
     "name": "stderr",
     "output_type": "stream",
     "text": [
      "<ipython-input-31-c10ce81a63c6>:3: SettingWithCopyWarning: \n",
      "A value is trying to be set on a copy of a slice from a DataFrame\n",
      "\n",
      "See the caveats in the documentation: https://pandas.pydata.org/pandas-docs/stable/user_guide/indexing.html#returning-a-view-versus-a-copy\n",
      "  cusSeg_cols.age[cusSeg_cols['age']== i] = 2020 - i\n"
     ]
    }
   ],
   "source": [
    "for i in cusSeg_cols['age']:\n",
    "    if i <= 2010 and i >= 1920:\n",
    "        cusSeg_cols.age[cusSeg_cols['age']== i] = 2020 - i\n",
    "  "
   ]
  },
  {
   "cell_type": "code",
   "execution_count": 32,
   "metadata": {},
   "outputs": [
    {
     "data": {
      "text/plain": [
       "count    192260.000000\n",
       "mean         46.234134\n",
       "std          13.978819\n",
       "min          16.000000\n",
       "25%          35.000000\n",
       "50%          46.000000\n",
       "75%          57.000000\n",
       "max          99.000000\n",
       "Name: age, dtype: float64"
      ]
     },
     "execution_count": 32,
     "metadata": {},
     "output_type": "execute_result"
    }
   ],
   "source": [
    "cusSeg_cols['age'].describe()\n"
   ]
  },
  {
   "cell_type": "code",
   "execution_count": 33,
   "metadata": {},
   "outputs": [
    {
     "data": {
      "text/plain": [
       "<matplotlib.axes._subplots.AxesSubplot at 0x11dd9c430>"
      ]
     },
     "execution_count": 33,
     "metadata": {},
     "output_type": "execute_result"
    },
    {
     "data": {
      "image/png": "[encoded data removed]",
      "text/plain": [
       "<Figure size 432x288 with 1 Axes>"
      ]
     },
     "metadata": {
      "needs_background": "light"
     },
     "output_type": "display_data"
    }
   ],
   "source": [
    "cusSeg_cols['age'].plot(kind='hist', title='age')\n"
   ]
  },
  {
   "cell_type": "markdown",
   "metadata": {},
   "source": [
    "#### clean"
   ]
  },
  {
   "cell_type": "code",
   "execution_count": 67,
   "metadata": {},
   "outputs": [
    {
     "data": {
      "text/plain": [
       "(144399, 11)"
      ]
     },
     "execution_count": 67,
     "metadata": {},
     "output_type": "execute_result"
    }
   ],
   "source": [
    "CustomerS = cusSeg_cols.dropna()\n",
    "CustomerS.shape"
   ]
  },
  {
   "cell_type": "code",
   "execution_count": 68,
   "metadata": {},
   "outputs": [
    {
     "data": {
      "text/html": [
       "<div>\n",
       "<style scoped>\n",
       "    .dataframe tbody tr th:only-of-type {\n",
       "        vertical-align: middle;\n",
       "    }\n",
       "\n",
       "    .dataframe tbody tr th {\n",
       "        vertical-align: top;\n",
       "    }\n",
       "\n",
       "    .dataframe thead th {\n",
       "        text-align: right;\n",
       "    }\n",
       "</style>\n",
       "<table border=\"1\" class=\"dataframe\">\n",
       "  <thead>\n",
       "    <tr style=\"text-align: right;\">\n",
       "      <th></th>\n",
       "      <th>subid</th>\n",
       "      <th>num_weekly_services_utilized</th>\n",
       "      <th>weekly_consumption_hour</th>\n",
       "      <th>num_ideal_streaming_services</th>\n",
       "      <th>age</th>\n",
       "    </tr>\n",
       "  </thead>\n",
       "  <tbody>\n",
       "    <tr>\n",
       "      <th>count</th>\n",
       "      <td>1.443990e+05</td>\n",
       "      <td>144399.000000</td>\n",
       "      <td>144399.000000</td>\n",
       "      <td>144399.000000</td>\n",
       "      <td>144399.000000</td>\n",
       "    </tr>\n",
       "    <tr>\n",
       "      <th>mean</th>\n",
       "      <td>2.499649e+07</td>\n",
       "      <td>3.006898</td>\n",
       "      <td>28.059145</td>\n",
       "      <td>2.396118</td>\n",
       "      <td>45.600084</td>\n",
       "    </tr>\n",
       "    <tr>\n",
       "      <th>std</th>\n",
       "      <td>2.881830e+06</td>\n",
       "      <td>0.661192</td>\n",
       "      <td>4.933270</td>\n",
       "      <td>0.490985</td>\n",
       "      <td>13.833237</td>\n",
       "    </tr>\n",
       "    <tr>\n",
       "      <th>min</th>\n",
       "      <td>2.000001e+07</td>\n",
       "      <td>0.000000</td>\n",
       "      <td>-32.146760</td>\n",
       "      <td>0.000000</td>\n",
       "      <td>16.000000</td>\n",
       "    </tr>\n",
       "    <tr>\n",
       "      <th>25%</th>\n",
       "      <td>2.250063e+07</td>\n",
       "      <td>3.000000</td>\n",
       "      <td>24.401536</td>\n",
       "      <td>2.000000</td>\n",
       "      <td>35.000000</td>\n",
       "    </tr>\n",
       "    <tr>\n",
       "      <th>50%</th>\n",
       "      <td>2.498656e+07</td>\n",
       "      <td>3.000000</td>\n",
       "      <td>27.301448</td>\n",
       "      <td>2.000000</td>\n",
       "      <td>45.000000</td>\n",
       "    </tr>\n",
       "    <tr>\n",
       "      <th>75%</th>\n",
       "      <td>2.749846e+07</td>\n",
       "      <td>3.000000</td>\n",
       "      <td>30.201361</td>\n",
       "      <td>3.000000</td>\n",
       "      <td>56.000000</td>\n",
       "    </tr>\n",
       "    <tr>\n",
       "      <th>max</th>\n",
       "      <td>2.999998e+07</td>\n",
       "      <td>14.000000</td>\n",
       "      <td>76.599962</td>\n",
       "      <td>7.000000</td>\n",
       "      <td>99.000000</td>\n",
       "    </tr>\n",
       "  </tbody>\n",
       "</table>\n",
       "</div>"
      ],
      "text/plain": [
       "              subid  num_weekly_services_utilized  weekly_consumption_hour  \\\n",
       "count  1.443990e+05                 144399.000000            144399.000000   \n",
       "mean   2.499649e+07                      3.006898                28.059145   \n",
       "std    2.881830e+06                      0.661192                 4.933270   \n",
       "min    2.000001e+07                      0.000000               -32.146760   \n",
       "25%    2.250063e+07                      3.000000                24.401536   \n",
       "50%    2.498656e+07                      3.000000                27.301448   \n",
       "75%    2.749846e+07                      3.000000                30.201361   \n",
       "max    2.999998e+07                     14.000000                76.599962   \n",
       "\n",
       "       num_ideal_streaming_services            age  \n",
       "count                 144399.000000  144399.000000  \n",
       "mean                       2.396118      45.600084  \n",
       "std                        0.490985      13.833237  \n",
       "min                        0.000000      16.000000  \n",
       "25%                        2.000000      35.000000  \n",
       "50%                        2.000000      45.000000  \n",
       "75%                        3.000000      56.000000  \n",
       "max                        7.000000      99.000000  "
      ]
     },
     "execution_count": 68,
     "metadata": {},
     "output_type": "execute_result"
    }
   ],
   "source": [
    "CustomerS.describe()"
   ]
  },
  {
   "cell_type": "code",
   "execution_count": 69,
   "metadata": {},
   "outputs": [],
   "source": [
    "CustomerS = CustomerS.drop(CustomerS[(CustomerS['weekly_consumption_hour'] < 0)].index)\n",
    "\n"
   ]
  },
  {
   "cell_type": "code",
   "execution_count": 70,
   "metadata": {},
   "outputs": [
    {
     "data": {
      "text/plain": [
       "(144383, 11)"
      ]
     },
     "execution_count": 70,
     "metadata": {},
     "output_type": "execute_result"
    }
   ],
   "source": [
    "CustomerS.shape"
   ]
  },
  {
   "cell_type": "code",
   "execution_count": 38,
   "metadata": {},
   "outputs": [],
   "source": [
    "#CustomerS.to_csv(\"CustomerS.csv\")"
   ]
  },
  {
   "cell_type": "code",
   "execution_count": null,
   "metadata": {},
   "outputs": [],
   "source": []
  },
  {
   "cell_type": "markdown",
   "metadata": {},
   "source": [
    "### Dummy"
   ]
  },
  {
   "cell_type": "code",
   "execution_count": 71,
   "metadata": {},
   "outputs": [
    {
     "data": {
      "text/html": [
       "<div>\n",
       "<style scoped>\n",
       "    .dataframe tbody tr th:only-of-type {\n",
       "        vertical-align: middle;\n",
       "    }\n",
       "\n",
       "    .dataframe tbody tr th {\n",
       "        vertical-align: top;\n",
       "    }\n",
       "\n",
       "    .dataframe thead th {\n",
       "        text-align: right;\n",
       "    }\n",
       "</style>\n",
       "<table border=\"1\" class=\"dataframe\">\n",
       "  <thead>\n",
       "    <tr style=\"text-align: right;\">\n",
       "      <th></th>\n",
       "      <th>subid</th>\n",
       "      <th>package_type</th>\n",
       "      <th>num_weekly_services_utilized</th>\n",
       "      <th>preferred_genre</th>\n",
       "      <th>intended_use</th>\n",
       "      <th>weekly_consumption_hour</th>\n",
       "      <th>num_ideal_streaming_services</th>\n",
       "      <th>age</th>\n",
       "      <th>male_TF</th>\n",
       "      <th>attribution_technical</th>\n",
       "      <th>op_sys</th>\n",
       "    </tr>\n",
       "  </thead>\n",
       "  <tbody>\n",
       "    <tr>\n",
       "      <th>2</th>\n",
       "      <td>26844789</td>\n",
       "      <td>enhanced</td>\n",
       "      <td>3.0</td>\n",
       "      <td>regional</td>\n",
       "      <td>replace OTT</td>\n",
       "      <td>36.001186</td>\n",
       "      <td>2.0</td>\n",
       "      <td>25.0</td>\n",
       "      <td>True</td>\n",
       "      <td>organic</td>\n",
       "      <td>iOS</td>\n",
       "    </tr>\n",
       "    <tr>\n",
       "      <th>3</th>\n",
       "      <td>29417030</td>\n",
       "      <td>base</td>\n",
       "      <td>3.0</td>\n",
       "      <td>drama</td>\n",
       "      <td>replace OTT</td>\n",
       "      <td>20.051667</td>\n",
       "      <td>3.0</td>\n",
       "      <td>30.0</td>\n",
       "      <td>False</td>\n",
       "      <td>search</td>\n",
       "      <td>Android</td>\n",
       "    </tr>\n",
       "  </tbody>\n",
       "</table>\n",
       "</div>"
      ],
      "text/plain": [
       "      subid package_type  num_weekly_services_utilized preferred_genre  \\\n",
       "2  26844789     enhanced                           3.0        regional   \n",
       "3  29417030         base                           3.0           drama   \n",
       "\n",
       "  intended_use  weekly_consumption_hour  num_ideal_streaming_services   age  \\\n",
       "2  replace OTT                36.001186                           2.0  25.0   \n",
       "3  replace OTT                20.051667                           3.0  30.0   \n",
       "\n",
       "  male_TF attribution_technical   op_sys  \n",
       "2    True               organic      iOS  \n",
       "3   False                search  Android  "
      ]
     },
     "execution_count": 71,
     "metadata": {},
     "output_type": "execute_result"
    }
   ],
   "source": [
    "CustomerS.head(2)"
   ]
  },
  {
   "cell_type": "code",
   "execution_count": 72,
   "metadata": {},
   "outputs": [
    {
     "data": {
      "text/html": [
       "<div>\n",
       "<style scoped>\n",
       "    .dataframe tbody tr th:only-of-type {\n",
       "        vertical-align: middle;\n",
       "    }\n",
       "\n",
       "    .dataframe tbody tr th {\n",
       "        vertical-align: top;\n",
       "    }\n",
       "\n",
       "    .dataframe thead th {\n",
       "        text-align: right;\n",
       "    }\n",
       "</style>\n",
       "<table border=\"1\" class=\"dataframe\">\n",
       "  <thead>\n",
       "    <tr style=\"text-align: right;\">\n",
       "      <th></th>\n",
       "      <th>subid</th>\n",
       "      <th>num_weekly_services_utilized</th>\n",
       "      <th>weekly_consumption_hour</th>\n",
       "      <th>num_ideal_streaming_services</th>\n",
       "      <th>age</th>\n",
       "      <th>package_type_base</th>\n",
       "      <th>package_type_economy</th>\n",
       "      <th>package_type_enhanced</th>\n",
       "      <th>preferred_genre_comedy</th>\n",
       "      <th>preferred_genre_drama</th>\n",
       "      <th>...</th>\n",
       "      <th>attribution_technical_podcast</th>\n",
       "      <th>attribution_technical_quora</th>\n",
       "      <th>attribution_technical_referral</th>\n",
       "      <th>attribution_technical_samsung</th>\n",
       "      <th>attribution_technical_search</th>\n",
       "      <th>attribution_technical_tv</th>\n",
       "      <th>attribution_technical_vod</th>\n",
       "      <th>attribution_technical_youtube</th>\n",
       "      <th>op_sys_Android</th>\n",
       "      <th>op_sys_iOS</th>\n",
       "    </tr>\n",
       "  </thead>\n",
       "  <tbody>\n",
       "    <tr>\n",
       "      <th>2</th>\n",
       "      <td>26844789</td>\n",
       "      <td>3.0</td>\n",
       "      <td>36.001186</td>\n",
       "      <td>2.0</td>\n",
       "      <td>25.0</td>\n",
       "      <td>0</td>\n",
       "      <td>0</td>\n",
       "      <td>1</td>\n",
       "      <td>0</td>\n",
       "      <td>0</td>\n",
       "      <td>...</td>\n",
       "      <td>0</td>\n",
       "      <td>0</td>\n",
       "      <td>0</td>\n",
       "      <td>0</td>\n",
       "      <td>0</td>\n",
       "      <td>0</td>\n",
       "      <td>0</td>\n",
       "      <td>0</td>\n",
       "      <td>0</td>\n",
       "      <td>1</td>\n",
       "    </tr>\n",
       "    <tr>\n",
       "      <th>3</th>\n",
       "      <td>29417030</td>\n",
       "      <td>3.0</td>\n",
       "      <td>20.051667</td>\n",
       "      <td>3.0</td>\n",
       "      <td>30.0</td>\n",
       "      <td>1</td>\n",
       "      <td>0</td>\n",
       "      <td>0</td>\n",
       "      <td>0</td>\n",
       "      <td>1</td>\n",
       "      <td>...</td>\n",
       "      <td>0</td>\n",
       "      <td>0</td>\n",
       "      <td>0</td>\n",
       "      <td>0</td>\n",
       "      <td>1</td>\n",
       "      <td>0</td>\n",
       "      <td>0</td>\n",
       "      <td>0</td>\n",
       "      <td>1</td>\n",
       "      <td>0</td>\n",
       "    </tr>\n",
       "    <tr>\n",
       "      <th>4</th>\n",
       "      <td>26723159</td>\n",
       "      <td>4.0</td>\n",
       "      <td>22.951579</td>\n",
       "      <td>3.0</td>\n",
       "      <td>28.0</td>\n",
       "      <td>1</td>\n",
       "      <td>0</td>\n",
       "      <td>0</td>\n",
       "      <td>1</td>\n",
       "      <td>0</td>\n",
       "      <td>...</td>\n",
       "      <td>0</td>\n",
       "      <td>0</td>\n",
       "      <td>0</td>\n",
       "      <td>0</td>\n",
       "      <td>0</td>\n",
       "      <td>0</td>\n",
       "      <td>0</td>\n",
       "      <td>0</td>\n",
       "      <td>0</td>\n",
       "      <td>1</td>\n",
       "    </tr>\n",
       "    <tr>\n",
       "      <th>6</th>\n",
       "      <td>29726122</td>\n",
       "      <td>2.0</td>\n",
       "      <td>20.051667</td>\n",
       "      <td>2.0</td>\n",
       "      <td>61.0</td>\n",
       "      <td>1</td>\n",
       "      <td>0</td>\n",
       "      <td>0</td>\n",
       "      <td>1</td>\n",
       "      <td>0</td>\n",
       "      <td>...</td>\n",
       "      <td>0</td>\n",
       "      <td>0</td>\n",
       "      <td>0</td>\n",
       "      <td>0</td>\n",
       "      <td>0</td>\n",
       "      <td>0</td>\n",
       "      <td>0</td>\n",
       "      <td>0</td>\n",
       "      <td>1</td>\n",
       "      <td>0</td>\n",
       "    </tr>\n",
       "    <tr>\n",
       "      <th>7</th>\n",
       "      <td>20299962</td>\n",
       "      <td>3.0</td>\n",
       "      <td>34.551230</td>\n",
       "      <td>2.0</td>\n",
       "      <td>23.0</td>\n",
       "      <td>1</td>\n",
       "      <td>0</td>\n",
       "      <td>0</td>\n",
       "      <td>0</td>\n",
       "      <td>1</td>\n",
       "      <td>...</td>\n",
       "      <td>0</td>\n",
       "      <td>0</td>\n",
       "      <td>0</td>\n",
       "      <td>0</td>\n",
       "      <td>0</td>\n",
       "      <td>0</td>\n",
       "      <td>0</td>\n",
       "      <td>0</td>\n",
       "      <td>0</td>\n",
       "      <td>1</td>\n",
       "    </tr>\n",
       "  </tbody>\n",
       "</table>\n",
       "<p>5 rows × 56 columns</p>\n",
       "</div>"
      ],
      "text/plain": [
       "      subid  num_weekly_services_utilized  weekly_consumption_hour  \\\n",
       "2  26844789                           3.0                36.001186   \n",
       "3  29417030                           3.0                20.051667   \n",
       "4  26723159                           4.0                22.951579   \n",
       "6  29726122                           2.0                20.051667   \n",
       "7  20299962                           3.0                34.551230   \n",
       "\n",
       "   num_ideal_streaming_services   age  package_type_base  \\\n",
       "2                           2.0  25.0                  0   \n",
       "3                           3.0  30.0                  1   \n",
       "4                           3.0  28.0                  1   \n",
       "6                           2.0  61.0                  1   \n",
       "7                           2.0  23.0                  1   \n",
       "\n",
       "   package_type_economy  package_type_enhanced  preferred_genre_comedy  \\\n",
       "2                     0                      1                       0   \n",
       "3                     0                      0                       0   \n",
       "4                     0                      0                       1   \n",
       "6                     0                      0                       1   \n",
       "7                     0                      0                       0   \n",
       "\n",
       "   preferred_genre_drama  ...  attribution_technical_podcast  \\\n",
       "2                      0  ...                              0   \n",
       "3                      1  ...                              0   \n",
       "4                      0  ...                              0   \n",
       "6                      0  ...                              0   \n",
       "7                      1  ...                              0   \n",
       "\n",
       "   attribution_technical_quora  attribution_technical_referral  \\\n",
       "2                            0                               0   \n",
       "3                            0                               0   \n",
       "4                            0                               0   \n",
       "6                            0                               0   \n",
       "7                            0                               0   \n",
       "\n",
       "   attribution_technical_samsung  attribution_technical_search  \\\n",
       "2                              0                             0   \n",
       "3                              0                             1   \n",
       "4                              0                             0   \n",
       "6                              0                             0   \n",
       "7                              0                             0   \n",
       "\n",
       "   attribution_technical_tv  attribution_technical_vod  \\\n",
       "2                         0                          0   \n",
       "3                         0                          0   \n",
       "4                         0                          0   \n",
       "6                         0                          0   \n",
       "7                         0                          0   \n",
       "\n",
       "   attribution_technical_youtube  op_sys_Android  op_sys_iOS  \n",
       "2                              0               0           1  \n",
       "3                              0               1           0  \n",
       "4                              0               0           1  \n",
       "6                              0               1           0  \n",
       "7                              0               0           1  \n",
       "\n",
       "[5 rows x 56 columns]"
      ]
     },
     "execution_count": 72,
     "metadata": {},
     "output_type": "execute_result"
    }
   ],
   "source": [
    "dummy_fields = ['package_type', 'preferred_genre','intended_use','male_TF','attribution_technical','op_sys']\n",
    "\n",
    "for each in dummy_fields:\n",
    "    dummies = pd.get_dummies( CustomerS.loc[:, each], prefix=each ) \n",
    "    CustomerS = pd.concat( [CustomerS, dummies], axis = 1 )\n",
    "    \n",
    "    \n",
    "fields_to_drop = ['package_type', 'preferred_genre','intended_use','male_TF','attribution_technical','op_sys']\n",
    "CustomerS1 = CustomerS.drop( fields_to_drop, axis = 1 )\n",
    "CustomerS1.head()\n",
    "    "
   ]
  },
  {
   "cell_type": "code",
   "execution_count": 73,
   "metadata": {},
   "outputs": [
    {
     "data": {
      "text/html": [
       "<div>\n",
       "<style scoped>\n",
       "    .dataframe tbody tr th:only-of-type {\n",
       "        vertical-align: middle;\n",
       "    }\n",
       "\n",
       "    .dataframe tbody tr th {\n",
       "        vertical-align: top;\n",
       "    }\n",
       "\n",
       "    .dataframe thead th {\n",
       "        text-align: right;\n",
       "    }\n",
       "</style>\n",
       "<table border=\"1\" class=\"dataframe\">\n",
       "  <thead>\n",
       "    <tr style=\"text-align: right;\">\n",
       "      <th></th>\n",
       "      <th>subid</th>\n",
       "      <th>num_weekly_services_utilized</th>\n",
       "      <th>weekly_consumption_hour</th>\n",
       "      <th>num_ideal_streaming_services</th>\n",
       "      <th>age</th>\n",
       "      <th>package_type_base</th>\n",
       "      <th>package_type_economy</th>\n",
       "      <th>preferred_genre_comedy</th>\n",
       "      <th>preferred_genre_drama</th>\n",
       "      <th>preferred_genre_international</th>\n",
       "      <th>...</th>\n",
       "      <th>attribution_technical_pinterest_organic</th>\n",
       "      <th>attribution_technical_playstore</th>\n",
       "      <th>attribution_technical_podcast</th>\n",
       "      <th>attribution_technical_quora</th>\n",
       "      <th>attribution_technical_referral</th>\n",
       "      <th>attribution_technical_samsung</th>\n",
       "      <th>attribution_technical_search</th>\n",
       "      <th>attribution_technical_tv</th>\n",
       "      <th>attribution_technical_vod</th>\n",
       "      <th>op_sys_Android</th>\n",
       "    </tr>\n",
       "  </thead>\n",
       "  <tbody>\n",
       "    <tr>\n",
       "      <th>2</th>\n",
       "      <td>26844789</td>\n",
       "      <td>3.0</td>\n",
       "      <td>36.001186</td>\n",
       "      <td>2.0</td>\n",
       "      <td>25.0</td>\n",
       "      <td>0</td>\n",
       "      <td>0</td>\n",
       "      <td>0</td>\n",
       "      <td>0</td>\n",
       "      <td>0</td>\n",
       "      <td>...</td>\n",
       "      <td>0</td>\n",
       "      <td>0</td>\n",
       "      <td>0</td>\n",
       "      <td>0</td>\n",
       "      <td>0</td>\n",
       "      <td>0</td>\n",
       "      <td>0</td>\n",
       "      <td>0</td>\n",
       "      <td>0</td>\n",
       "      <td>0</td>\n",
       "    </tr>\n",
       "    <tr>\n",
       "      <th>3</th>\n",
       "      <td>29417030</td>\n",
       "      <td>3.0</td>\n",
       "      <td>20.051667</td>\n",
       "      <td>3.0</td>\n",
       "      <td>30.0</td>\n",
       "      <td>1</td>\n",
       "      <td>0</td>\n",
       "      <td>0</td>\n",
       "      <td>1</td>\n",
       "      <td>0</td>\n",
       "      <td>...</td>\n",
       "      <td>0</td>\n",
       "      <td>0</td>\n",
       "      <td>0</td>\n",
       "      <td>0</td>\n",
       "      <td>0</td>\n",
       "      <td>0</td>\n",
       "      <td>1</td>\n",
       "      <td>0</td>\n",
       "      <td>0</td>\n",
       "      <td>1</td>\n",
       "    </tr>\n",
       "    <tr>\n",
       "      <th>4</th>\n",
       "      <td>26723159</td>\n",
       "      <td>4.0</td>\n",
       "      <td>22.951579</td>\n",
       "      <td>3.0</td>\n",
       "      <td>28.0</td>\n",
       "      <td>1</td>\n",
       "      <td>0</td>\n",
       "      <td>1</td>\n",
       "      <td>0</td>\n",
       "      <td>0</td>\n",
       "      <td>...</td>\n",
       "      <td>0</td>\n",
       "      <td>0</td>\n",
       "      <td>0</td>\n",
       "      <td>0</td>\n",
       "      <td>0</td>\n",
       "      <td>0</td>\n",
       "      <td>0</td>\n",
       "      <td>0</td>\n",
       "      <td>0</td>\n",
       "      <td>0</td>\n",
       "    </tr>\n",
       "    <tr>\n",
       "      <th>6</th>\n",
       "      <td>29726122</td>\n",
       "      <td>2.0</td>\n",
       "      <td>20.051667</td>\n",
       "      <td>2.0</td>\n",
       "      <td>61.0</td>\n",
       "      <td>1</td>\n",
       "      <td>0</td>\n",
       "      <td>1</td>\n",
       "      <td>0</td>\n",
       "      <td>0</td>\n",
       "      <td>...</td>\n",
       "      <td>0</td>\n",
       "      <td>0</td>\n",
       "      <td>0</td>\n",
       "      <td>0</td>\n",
       "      <td>0</td>\n",
       "      <td>0</td>\n",
       "      <td>0</td>\n",
       "      <td>0</td>\n",
       "      <td>0</td>\n",
       "      <td>1</td>\n",
       "    </tr>\n",
       "    <tr>\n",
       "      <th>7</th>\n",
       "      <td>20299962</td>\n",
       "      <td>3.0</td>\n",
       "      <td>34.551230</td>\n",
       "      <td>2.0</td>\n",
       "      <td>23.0</td>\n",
       "      <td>1</td>\n",
       "      <td>0</td>\n",
       "      <td>0</td>\n",
       "      <td>1</td>\n",
       "      <td>0</td>\n",
       "      <td>...</td>\n",
       "      <td>0</td>\n",
       "      <td>0</td>\n",
       "      <td>0</td>\n",
       "      <td>0</td>\n",
       "      <td>0</td>\n",
       "      <td>0</td>\n",
       "      <td>0</td>\n",
       "      <td>0</td>\n",
       "      <td>0</td>\n",
       "      <td>0</td>\n",
       "    </tr>\n",
       "    <tr>\n",
       "      <th>...</th>\n",
       "      <td>...</td>\n",
       "      <td>...</td>\n",
       "      <td>...</td>\n",
       "      <td>...</td>\n",
       "      <td>...</td>\n",
       "      <td>...</td>\n",
       "      <td>...</td>\n",
       "      <td>...</td>\n",
       "      <td>...</td>\n",
       "      <td>...</td>\n",
       "      <td>...</td>\n",
       "      <td>...</td>\n",
       "      <td>...</td>\n",
       "      <td>...</td>\n",
       "      <td>...</td>\n",
       "      <td>...</td>\n",
       "      <td>...</td>\n",
       "      <td>...</td>\n",
       "      <td>...</td>\n",
       "      <td>...</td>\n",
       "      <td>...</td>\n",
       "    </tr>\n",
       "    <tr>\n",
       "      <th>227622</th>\n",
       "      <td>25835684</td>\n",
       "      <td>2.0</td>\n",
       "      <td>24.401536</td>\n",
       "      <td>2.0</td>\n",
       "      <td>43.0</td>\n",
       "      <td>1</td>\n",
       "      <td>0</td>\n",
       "      <td>0</td>\n",
       "      <td>1</td>\n",
       "      <td>0</td>\n",
       "      <td>...</td>\n",
       "      <td>0</td>\n",
       "      <td>0</td>\n",
       "      <td>0</td>\n",
       "      <td>0</td>\n",
       "      <td>0</td>\n",
       "      <td>0</td>\n",
       "      <td>0</td>\n",
       "      <td>0</td>\n",
       "      <td>0</td>\n",
       "      <td>0</td>\n",
       "    </tr>\n",
       "    <tr>\n",
       "      <th>227623</th>\n",
       "      <td>21434712</td>\n",
       "      <td>3.0</td>\n",
       "      <td>28.751405</td>\n",
       "      <td>2.0</td>\n",
       "      <td>38.0</td>\n",
       "      <td>0</td>\n",
       "      <td>0</td>\n",
       "      <td>1</td>\n",
       "      <td>0</td>\n",
       "      <td>0</td>\n",
       "      <td>...</td>\n",
       "      <td>0</td>\n",
       "      <td>0</td>\n",
       "      <td>0</td>\n",
       "      <td>0</td>\n",
       "      <td>0</td>\n",
       "      <td>0</td>\n",
       "      <td>0</td>\n",
       "      <td>0</td>\n",
       "      <td>0</td>\n",
       "      <td>0</td>\n",
       "    </tr>\n",
       "    <tr>\n",
       "      <th>227624</th>\n",
       "      <td>25843074</td>\n",
       "      <td>2.0</td>\n",
       "      <td>27.301448</td>\n",
       "      <td>2.0</td>\n",
       "      <td>49.0</td>\n",
       "      <td>0</td>\n",
       "      <td>0</td>\n",
       "      <td>1</td>\n",
       "      <td>0</td>\n",
       "      <td>0</td>\n",
       "      <td>...</td>\n",
       "      <td>0</td>\n",
       "      <td>0</td>\n",
       "      <td>0</td>\n",
       "      <td>0</td>\n",
       "      <td>0</td>\n",
       "      <td>0</td>\n",
       "      <td>0</td>\n",
       "      <td>0</td>\n",
       "      <td>0</td>\n",
       "      <td>0</td>\n",
       "    </tr>\n",
       "    <tr>\n",
       "      <th>227625</th>\n",
       "      <td>24799085</td>\n",
       "      <td>3.0</td>\n",
       "      <td>31.651317</td>\n",
       "      <td>3.0</td>\n",
       "      <td>45.0</td>\n",
       "      <td>1</td>\n",
       "      <td>0</td>\n",
       "      <td>1</td>\n",
       "      <td>0</td>\n",
       "      <td>0</td>\n",
       "      <td>...</td>\n",
       "      <td>0</td>\n",
       "      <td>0</td>\n",
       "      <td>0</td>\n",
       "      <td>0</td>\n",
       "      <td>0</td>\n",
       "      <td>0</td>\n",
       "      <td>0</td>\n",
       "      <td>0</td>\n",
       "      <td>0</td>\n",
       "      <td>0</td>\n",
       "    </tr>\n",
       "    <tr>\n",
       "      <th>227627</th>\n",
       "      <td>20166335</td>\n",
       "      <td>3.0</td>\n",
       "      <td>25.851492</td>\n",
       "      <td>3.0</td>\n",
       "      <td>55.0</td>\n",
       "      <td>1</td>\n",
       "      <td>0</td>\n",
       "      <td>1</td>\n",
       "      <td>0</td>\n",
       "      <td>0</td>\n",
       "      <td>...</td>\n",
       "      <td>0</td>\n",
       "      <td>0</td>\n",
       "      <td>0</td>\n",
       "      <td>0</td>\n",
       "      <td>0</td>\n",
       "      <td>0</td>\n",
       "      <td>0</td>\n",
       "      <td>0</td>\n",
       "      <td>0</td>\n",
       "      <td>0</td>\n",
       "    </tr>\n",
       "  </tbody>\n",
       "</table>\n",
       "<p>144383 rows × 50 columns</p>\n",
       "</div>"
      ],
      "text/plain": [
       "           subid  num_weekly_services_utilized  weekly_consumption_hour  \\\n",
       "2       26844789                           3.0                36.001186   \n",
       "3       29417030                           3.0                20.051667   \n",
       "4       26723159                           4.0                22.951579   \n",
       "6       29726122                           2.0                20.051667   \n",
       "7       20299962                           3.0                34.551230   \n",
       "...          ...                           ...                      ...   \n",
       "227622  25835684                           2.0                24.401536   \n",
       "227623  21434712                           3.0                28.751405   \n",
       "227624  25843074                           2.0                27.301448   \n",
       "227625  24799085                           3.0                31.651317   \n",
       "227627  20166335                           3.0                25.851492   \n",
       "\n",
       "        num_ideal_streaming_services   age  package_type_base  \\\n",
       "2                                2.0  25.0                  0   \n",
       "3                                3.0  30.0                  1   \n",
       "4                                3.0  28.0                  1   \n",
       "6                                2.0  61.0                  1   \n",
       "7                                2.0  23.0                  1   \n",
       "...                              ...   ...                ...   \n",
       "227622                           2.0  43.0                  1   \n",
       "227623                           2.0  38.0                  0   \n",
       "227624                           2.0  49.0                  0   \n",
       "227625                           3.0  45.0                  1   \n",
       "227627                           3.0  55.0                  1   \n",
       "\n",
       "        package_type_economy  preferred_genre_comedy  preferred_genre_drama  \\\n",
       "2                          0                       0                      0   \n",
       "3                          0                       0                      1   \n",
       "4                          0                       1                      0   \n",
       "6                          0                       1                      0   \n",
       "7                          0                       0                      1   \n",
       "...                      ...                     ...                    ...   \n",
       "227622                     0                       0                      1   \n",
       "227623                     0                       1                      0   \n",
       "227624                     0                       1                      0   \n",
       "227625                     0                       1                      0   \n",
       "227627                     0                       1                      0   \n",
       "\n",
       "        preferred_genre_international  ...  \\\n",
       "2                                   0  ...   \n",
       "3                                   0  ...   \n",
       "4                                   0  ...   \n",
       "6                                   0  ...   \n",
       "7                                   0  ...   \n",
       "...                               ...  ...   \n",
       "227622                              0  ...   \n",
       "227623                              0  ...   \n",
       "227624                              0  ...   \n",
       "227625                              0  ...   \n",
       "227627                              0  ...   \n",
       "\n",
       "        attribution_technical_pinterest_organic  \\\n",
       "2                                             0   \n",
       "3                                             0   \n",
       "4                                             0   \n",
       "6                                             0   \n",
       "7                                             0   \n",
       "...                                         ...   \n",
       "227622                                        0   \n",
       "227623                                        0   \n",
       "227624                                        0   \n",
       "227625                                        0   \n",
       "227627                                        0   \n",
       "\n",
       "        attribution_technical_playstore  attribution_technical_podcast  \\\n",
       "2                                     0                              0   \n",
       "3                                     0                              0   \n",
       "4                                     0                              0   \n",
       "6                                     0                              0   \n",
       "7                                     0                              0   \n",
       "...                                 ...                            ...   \n",
       "227622                                0                              0   \n",
       "227623                                0                              0   \n",
       "227624                                0                              0   \n",
       "227625                                0                              0   \n",
       "227627                                0                              0   \n",
       "\n",
       "        attribution_technical_quora  attribution_technical_referral  \\\n",
       "2                                 0                               0   \n",
       "3                                 0                               0   \n",
       "4                                 0                               0   \n",
       "6                                 0                               0   \n",
       "7                                 0                               0   \n",
       "...                             ...                             ...   \n",
       "227622                            0                               0   \n",
       "227623                            0                               0   \n",
       "227624                            0                               0   \n",
       "227625                            0                               0   \n",
       "227627                            0                               0   \n",
       "\n",
       "        attribution_technical_samsung  attribution_technical_search  \\\n",
       "2                                   0                             0   \n",
       "3                                   0                             1   \n",
       "4                                   0                             0   \n",
       "6                                   0                             0   \n",
       "7                                   0                             0   \n",
       "...                               ...                           ...   \n",
       "227622                              0                             0   \n",
       "227623                              0                             0   \n",
       "227624                              0                             0   \n",
       "227625                              0                             0   \n",
       "227627                              0                             0   \n",
       "\n",
       "        attribution_technical_tv  attribution_technical_vod  op_sys_Android  \n",
       "2                              0                          0               0  \n",
       "3                              0                          0               1  \n",
       "4                              0                          0               0  \n",
       "6                              0                          0               1  \n",
       "7                              0                          0               0  \n",
       "...                          ...                        ...             ...  \n",
       "227622                         0                          0               0  \n",
       "227623                         0                          0               0  \n",
       "227624                         0                          0               0  \n",
       "227625                         0                          0               0  \n",
       "227627                         0                          0               0  \n",
       "\n",
       "[144383 rows x 50 columns]"
      ]
     },
     "execution_count": 73,
     "metadata": {},
     "output_type": "execute_result"
    }
   ],
   "source": [
    "CustomerS1 = CustomerS1.drop('package_type_enhanced', 1)\n",
    "CustomerS1 = CustomerS1.drop('preferred_genre_regional', 1)\n",
    "CustomerS1 = CustomerS1.drop('intended_use_supplement OTT', 1)\n",
    "CustomerS1 = CustomerS1.drop('male_TF_False', 1)\n",
    "CustomerS1 = CustomerS1.drop('attribution_technical_youtube', 1)\n",
    "CustomerS1 = CustomerS1.drop('op_sys_iOS', 1)\n",
    "CustomerS1"
   ]
  },
  {
   "cell_type": "markdown",
   "metadata": {},
   "source": [
    "#### Standardization"
   ]
  },
  {
   "cell_type": "code",
   "execution_count": 42,
   "metadata": {},
   "outputs": [],
   "source": [
    "CustomerS1['num_weekly_services_utilized'] = (CustomerS1['num_weekly_services_utilized']-CustomerS1['num_weekly_services_utilized'].mean())/(CustomerS1['num_weekly_services_utilized'].std())\n",
    "CustomerS1['weekly_consumption_hour'] = (CustomerS1['weekly_consumption_hour']-CustomerS1['weekly_consumption_hour'].mean())/(CustomerS1['weekly_consumption_hour'].std())\n",
    "CustomerS1['num_ideal_streaming_services'] = (CustomerS1['num_ideal_streaming_services']-CustomerS1['num_ideal_streaming_services'].mean())/(CustomerS1['num_ideal_streaming_services'].std())\n",
    "CustomerS1['age'] = (CustomerS1['age']-CustomerS1['age'].mean())/(CustomerS1['age'].std())\n",
    "#CustomerS1\n"
   ]
  },
  {
   "cell_type": "code",
   "execution_count": 43,
   "metadata": {},
   "outputs": [],
   "source": [
    "#CustomerS1.to_csv(\"CustomerS1.csv\")"
   ]
  },
  {
   "cell_type": "code",
   "execution_count": null,
   "metadata": {},
   "outputs": [],
   "source": []
  },
  {
   "cell_type": "markdown",
   "metadata": {},
   "source": [
    "## Clustering"
   ]
  },
  {
   "cell_type": "code",
   "execution_count": 44,
   "metadata": {},
   "outputs": [
    {
     "name": "stdout",
     "output_type": "stream",
     "text": [
      "{2: 790397.5816951859, 3: 709154.0251270531, 4: 659698.5365259205, 5: 617419.7786348725, 6: 577911.2005967903, 7: 546654.6511038532, 8: 526724.7202806118, 9: 511017.78276761196, 10: 500712.1446957645, 11: 491611.47318818024, 12: 481201.6492918704, 13: 472879.52573660866, 14: 465212.5660498304, 15: 458237.2683446829, 16: 452483.103520189, 17: 447080.66223110666, 18: 442079.21350712795, 19: 435767.4907714898}\n"
     ]
    }
   ],
   "source": [
    "from sklearn.cluster import KMeans\n",
    "feature_x = [tag for tag in CustomerS1.columns if tag not in ['subid']]\n",
    "X = CustomerS1[feature_x].values\n",
    "\n",
    "inertias = {}\n",
    "for k in range(2, 20):\n",
    "    kmeans = KMeans(n_clusters=k, random_state=2020)\n",
    "    kmeans.fit(X) \n",
    "    inertias[k] = kmeans.inertia_\n",
    "print(inertias) \n"
   ]
  },
  {
   "cell_type": "code",
   "execution_count": 45,
   "metadata": {},
   "outputs": [
    {
     "data": {
      "text/plain": [
       "(144383, 19)"
      ]
     },
     "execution_count": 45,
     "metadata": {},
     "output_type": "execute_result"
    }
   ],
   "source": [
    "kmeans.transform(X).shape"
   ]
  },
  {
   "cell_type": "code",
   "execution_count": 46,
   "metadata": {},
   "outputs": [
    {
     "data": {
      "image/png": "[encoded data removed]",
      "text/plain": [
       "<Figure size 432x288 with 1 Axes>"
      ]
     },
     "metadata": {
      "needs_background": "light"
     },
     "output_type": "display_data"
    }
   ],
   "source": [
    "ax = plt.subplot()\n",
    "k=list(inertias.keys())\n",
    "v=list(inertias.values())\n",
    "ax.plot(k,v, '-*')\n",
    "ax.set_xticks(np.arange(1, 20))\n",
    "ax.grid()\n",
    "plt.show()"
   ]
  },
  {
   "cell_type": "code",
   "execution_count": 48,
   "metadata": {},
   "outputs": [],
   "source": [
    "from sklearn.metrics import silhouette_score\n",
    "\n",
    "#feature_x = [tag for tag in CustomerS1.columns if tag not in ['subid']]\n",
    "#X = CustomerS1[feature_x].values\n",
    "\n",
    "#scores = {}\n",
    "#for k in range(2, 20):\n",
    "#    kmeans = KMeans(n_clusters=k, random_state=2020)\n",
    "#    kmeans.fit(X)\n",
    "#    score = silhouette_score(X, kmeans.labels_)\n",
    "#    scores[k] = score\n",
    "#print(scores)  \n"
   ]
  },
  {
   "cell_type": "code",
   "execution_count": 47,
   "metadata": {},
   "outputs": [],
   "source": [
    "from sklearn.cluster import KMeans\n",
    "k = 3\n",
    "kmeans = KMeans(n_clusters=k, random_state=2020)\n",
    "y_pred = kmeans.fit_predict(X)"
   ]
  },
  {
   "cell_type": "code",
   "execution_count": 48,
   "metadata": {},
   "outputs": [],
   "source": [
    "def visualize_cluster_result(x, dim1, dim2, y_pred, k):\n",
    "    # select two feature dims: dim1, dim2, visualize the clusters\n",
    "    assert dim1 in range(x.shape[1])\n",
    "    assert dim2 in range(x.shape[1])\n",
    "    ax = plt.subplot()\n",
    "    # use a for loop to plot each cluster (with different colors)\n",
    "    for i in range(k):\n",
    "        ax.scatter(x[y_pred == i, dim1], x[y_pred ==  i, dim2], label='cluster: %d' % i)\n",
    "    plt.title('Visualization of clustering of dim %d and dim %d' % (dim1, dim2))\n",
    "    ax.set_xlabel('dim: %d' % dim1)\n",
    "    ax.set_ylabel('dim: %d' % dim2)\n",
    "    ax.legend()\n",
    "    plt.show()"
   ]
  },
  {
   "cell_type": "code",
   "execution_count": 49,
   "metadata": {},
   "outputs": [
    {
     "data": {
      "image/png": "[encoded data removed]",
      "text/plain": [
       "<Figure size 432x288 with 1 Axes>"
      ]
     },
     "metadata": {
      "needs_background": "light"
     },
     "output_type": "display_data"
    }
   ],
   "source": [
    "visualize_cluster_result(X, 0, 1, y_pred, k)"
   ]
  },
  {
   "cell_type": "code",
   "execution_count": 74,
   "metadata": {},
   "outputs": [],
   "source": [
    "CustomerS2=pd.DataFrame(CustomerS1)\n",
    "CustomerS2['Clustering'] =y_pred\n"
   ]
  },
  {
   "cell_type": "code",
   "execution_count": 75,
   "metadata": {},
   "outputs": [
    {
     "data": {
      "text/html": [
       "<div>\n",
       "<style scoped>\n",
       "    .dataframe tbody tr th:only-of-type {\n",
       "        vertical-align: middle;\n",
       "    }\n",
       "\n",
       "    .dataframe tbody tr th {\n",
       "        vertical-align: top;\n",
       "    }\n",
       "\n",
       "    .dataframe thead th {\n",
       "        text-align: right;\n",
       "    }\n",
       "</style>\n",
       "<table border=\"1\" class=\"dataframe\">\n",
       "  <thead>\n",
       "    <tr style=\"text-align: right;\">\n",
       "      <th></th>\n",
       "      <th>subid</th>\n",
       "      <th>num_weekly_services_utilized</th>\n",
       "      <th>weekly_consumption_hour</th>\n",
       "      <th>num_ideal_streaming_services</th>\n",
       "      <th>age</th>\n",
       "      <th>package_type_base</th>\n",
       "      <th>package_type_economy</th>\n",
       "      <th>preferred_genre_comedy</th>\n",
       "      <th>preferred_genre_drama</th>\n",
       "      <th>preferred_genre_international</th>\n",
       "      <th>...</th>\n",
       "      <th>attribution_technical_playstore</th>\n",
       "      <th>attribution_technical_podcast</th>\n",
       "      <th>attribution_technical_quora</th>\n",
       "      <th>attribution_technical_referral</th>\n",
       "      <th>attribution_technical_samsung</th>\n",
       "      <th>attribution_technical_search</th>\n",
       "      <th>attribution_technical_tv</th>\n",
       "      <th>attribution_technical_vod</th>\n",
       "      <th>op_sys_Android</th>\n",
       "      <th>Clustering</th>\n",
       "    </tr>\n",
       "  </thead>\n",
       "  <tbody>\n",
       "    <tr>\n",
       "      <th>2</th>\n",
       "      <td>26844789</td>\n",
       "      <td>3.0</td>\n",
       "      <td>36.001186</td>\n",
       "      <td>2.0</td>\n",
       "      <td>25.0</td>\n",
       "      <td>0</td>\n",
       "      <td>0</td>\n",
       "      <td>0</td>\n",
       "      <td>0</td>\n",
       "      <td>0</td>\n",
       "      <td>...</td>\n",
       "      <td>0</td>\n",
       "      <td>0</td>\n",
       "      <td>0</td>\n",
       "      <td>0</td>\n",
       "      <td>0</td>\n",
       "      <td>0</td>\n",
       "      <td>0</td>\n",
       "      <td>0</td>\n",
       "      <td>0</td>\n",
       "      <td>2</td>\n",
       "    </tr>\n",
       "    <tr>\n",
       "      <th>3</th>\n",
       "      <td>29417030</td>\n",
       "      <td>3.0</td>\n",
       "      <td>20.051667</td>\n",
       "      <td>3.0</td>\n",
       "      <td>30.0</td>\n",
       "      <td>1</td>\n",
       "      <td>0</td>\n",
       "      <td>0</td>\n",
       "      <td>1</td>\n",
       "      <td>0</td>\n",
       "      <td>...</td>\n",
       "      <td>0</td>\n",
       "      <td>0</td>\n",
       "      <td>0</td>\n",
       "      <td>0</td>\n",
       "      <td>0</td>\n",
       "      <td>1</td>\n",
       "      <td>0</td>\n",
       "      <td>0</td>\n",
       "      <td>1</td>\n",
       "      <td>1</td>\n",
       "    </tr>\n",
       "    <tr>\n",
       "      <th>4</th>\n",
       "      <td>26723159</td>\n",
       "      <td>4.0</td>\n",
       "      <td>22.951579</td>\n",
       "      <td>3.0</td>\n",
       "      <td>28.0</td>\n",
       "      <td>1</td>\n",
       "      <td>0</td>\n",
       "      <td>1</td>\n",
       "      <td>0</td>\n",
       "      <td>0</td>\n",
       "      <td>...</td>\n",
       "      <td>0</td>\n",
       "      <td>0</td>\n",
       "      <td>0</td>\n",
       "      <td>0</td>\n",
       "      <td>0</td>\n",
       "      <td>0</td>\n",
       "      <td>0</td>\n",
       "      <td>0</td>\n",
       "      <td>0</td>\n",
       "      <td>1</td>\n",
       "    </tr>\n",
       "    <tr>\n",
       "      <th>6</th>\n",
       "      <td>29726122</td>\n",
       "      <td>2.0</td>\n",
       "      <td>20.051667</td>\n",
       "      <td>2.0</td>\n",
       "      <td>61.0</td>\n",
       "      <td>1</td>\n",
       "      <td>0</td>\n",
       "      <td>1</td>\n",
       "      <td>0</td>\n",
       "      <td>0</td>\n",
       "      <td>...</td>\n",
       "      <td>0</td>\n",
       "      <td>0</td>\n",
       "      <td>0</td>\n",
       "      <td>0</td>\n",
       "      <td>0</td>\n",
       "      <td>0</td>\n",
       "      <td>0</td>\n",
       "      <td>0</td>\n",
       "      <td>1</td>\n",
       "      <td>0</td>\n",
       "    </tr>\n",
       "    <tr>\n",
       "      <th>7</th>\n",
       "      <td>20299962</td>\n",
       "      <td>3.0</td>\n",
       "      <td>34.551230</td>\n",
       "      <td>2.0</td>\n",
       "      <td>23.0</td>\n",
       "      <td>1</td>\n",
       "      <td>0</td>\n",
       "      <td>0</td>\n",
       "      <td>1</td>\n",
       "      <td>0</td>\n",
       "      <td>...</td>\n",
       "      <td>0</td>\n",
       "      <td>0</td>\n",
       "      <td>0</td>\n",
       "      <td>0</td>\n",
       "      <td>0</td>\n",
       "      <td>0</td>\n",
       "      <td>0</td>\n",
       "      <td>0</td>\n",
       "      <td>0</td>\n",
       "      <td>2</td>\n",
       "    </tr>\n",
       "    <tr>\n",
       "      <th>...</th>\n",
       "      <td>...</td>\n",
       "      <td>...</td>\n",
       "      <td>...</td>\n",
       "      <td>...</td>\n",
       "      <td>...</td>\n",
       "      <td>...</td>\n",
       "      <td>...</td>\n",
       "      <td>...</td>\n",
       "      <td>...</td>\n",
       "      <td>...</td>\n",
       "      <td>...</td>\n",
       "      <td>...</td>\n",
       "      <td>...</td>\n",
       "      <td>...</td>\n",
       "      <td>...</td>\n",
       "      <td>...</td>\n",
       "      <td>...</td>\n",
       "      <td>...</td>\n",
       "      <td>...</td>\n",
       "      <td>...</td>\n",
       "      <td>...</td>\n",
       "    </tr>\n",
       "    <tr>\n",
       "      <th>227622</th>\n",
       "      <td>25835684</td>\n",
       "      <td>2.0</td>\n",
       "      <td>24.401536</td>\n",
       "      <td>2.0</td>\n",
       "      <td>43.0</td>\n",
       "      <td>1</td>\n",
       "      <td>0</td>\n",
       "      <td>0</td>\n",
       "      <td>1</td>\n",
       "      <td>0</td>\n",
       "      <td>...</td>\n",
       "      <td>0</td>\n",
       "      <td>0</td>\n",
       "      <td>0</td>\n",
       "      <td>0</td>\n",
       "      <td>0</td>\n",
       "      <td>0</td>\n",
       "      <td>0</td>\n",
       "      <td>0</td>\n",
       "      <td>0</td>\n",
       "      <td>0</td>\n",
       "    </tr>\n",
       "    <tr>\n",
       "      <th>227623</th>\n",
       "      <td>21434712</td>\n",
       "      <td>3.0</td>\n",
       "      <td>28.751405</td>\n",
       "      <td>2.0</td>\n",
       "      <td>38.0</td>\n",
       "      <td>0</td>\n",
       "      <td>0</td>\n",
       "      <td>1</td>\n",
       "      <td>0</td>\n",
       "      <td>0</td>\n",
       "      <td>...</td>\n",
       "      <td>0</td>\n",
       "      <td>0</td>\n",
       "      <td>0</td>\n",
       "      <td>0</td>\n",
       "      <td>0</td>\n",
       "      <td>0</td>\n",
       "      <td>0</td>\n",
       "      <td>0</td>\n",
       "      <td>0</td>\n",
       "      <td>0</td>\n",
       "    </tr>\n",
       "    <tr>\n",
       "      <th>227624</th>\n",
       "      <td>25843074</td>\n",
       "      <td>2.0</td>\n",
       "      <td>27.301448</td>\n",
       "      <td>2.0</td>\n",
       "      <td>49.0</td>\n",
       "      <td>0</td>\n",
       "      <td>0</td>\n",
       "      <td>1</td>\n",
       "      <td>0</td>\n",
       "      <td>0</td>\n",
       "      <td>...</td>\n",
       "      <td>0</td>\n",
       "      <td>0</td>\n",
       "      <td>0</td>\n",
       "      <td>0</td>\n",
       "      <td>0</td>\n",
       "      <td>0</td>\n",
       "      <td>0</td>\n",
       "      <td>0</td>\n",
       "      <td>0</td>\n",
       "      <td>0</td>\n",
       "    </tr>\n",
       "    <tr>\n",
       "      <th>227625</th>\n",
       "      <td>24799085</td>\n",
       "      <td>3.0</td>\n",
       "      <td>31.651317</td>\n",
       "      <td>3.0</td>\n",
       "      <td>45.0</td>\n",
       "      <td>1</td>\n",
       "      <td>0</td>\n",
       "      <td>1</td>\n",
       "      <td>0</td>\n",
       "      <td>0</td>\n",
       "      <td>...</td>\n",
       "      <td>0</td>\n",
       "      <td>0</td>\n",
       "      <td>0</td>\n",
       "      <td>0</td>\n",
       "      <td>0</td>\n",
       "      <td>0</td>\n",
       "      <td>0</td>\n",
       "      <td>0</td>\n",
       "      <td>0</td>\n",
       "      <td>1</td>\n",
       "    </tr>\n",
       "    <tr>\n",
       "      <th>227627</th>\n",
       "      <td>20166335</td>\n",
       "      <td>3.0</td>\n",
       "      <td>25.851492</td>\n",
       "      <td>3.0</td>\n",
       "      <td>55.0</td>\n",
       "      <td>1</td>\n",
       "      <td>0</td>\n",
       "      <td>1</td>\n",
       "      <td>0</td>\n",
       "      <td>0</td>\n",
       "      <td>...</td>\n",
       "      <td>0</td>\n",
       "      <td>0</td>\n",
       "      <td>0</td>\n",
       "      <td>0</td>\n",
       "      <td>0</td>\n",
       "      <td>0</td>\n",
       "      <td>0</td>\n",
       "      <td>0</td>\n",
       "      <td>0</td>\n",
       "      <td>1</td>\n",
       "    </tr>\n",
       "  </tbody>\n",
       "</table>\n",
       "<p>144383 rows × 51 columns</p>\n",
       "</div>"
      ],
      "text/plain": [
       "           subid  num_weekly_services_utilized  weekly_consumption_hour  \\\n",
       "2       26844789                           3.0                36.001186   \n",
       "3       29417030                           3.0                20.051667   \n",
       "4       26723159                           4.0                22.951579   \n",
       "6       29726122                           2.0                20.051667   \n",
       "7       20299962                           3.0                34.551230   \n",
       "...          ...                           ...                      ...   \n",
       "227622  25835684                           2.0                24.401536   \n",
       "227623  21434712                           3.0                28.751405   \n",
       "227624  25843074                           2.0                27.301448   \n",
       "227625  24799085                           3.0                31.651317   \n",
       "227627  20166335                           3.0                25.851492   \n",
       "\n",
       "        num_ideal_streaming_services   age  package_type_base  \\\n",
       "2                                2.0  25.0                  0   \n",
       "3                                3.0  30.0                  1   \n",
       "4                                3.0  28.0                  1   \n",
       "6                                2.0  61.0                  1   \n",
       "7                                2.0  23.0                  1   \n",
       "...                              ...   ...                ...   \n",
       "227622                           2.0  43.0                  1   \n",
       "227623                           2.0  38.0                  0   \n",
       "227624                           2.0  49.0                  0   \n",
       "227625                           3.0  45.0                  1   \n",
       "227627                           3.0  55.0                  1   \n",
       "\n",
       "        package_type_economy  preferred_genre_comedy  preferred_genre_drama  \\\n",
       "2                          0                       0                      0   \n",
       "3                          0                       0                      1   \n",
       "4                          0                       1                      0   \n",
       "6                          0                       1                      0   \n",
       "7                          0                       0                      1   \n",
       "...                      ...                     ...                    ...   \n",
       "227622                     0                       0                      1   \n",
       "227623                     0                       1                      0   \n",
       "227624                     0                       1                      0   \n",
       "227625                     0                       1                      0   \n",
       "227627                     0                       1                      0   \n",
       "\n",
       "        preferred_genre_international  ...  attribution_technical_playstore  \\\n",
       "2                                   0  ...                                0   \n",
       "3                                   0  ...                                0   \n",
       "4                                   0  ...                                0   \n",
       "6                                   0  ...                                0   \n",
       "7                                   0  ...                                0   \n",
       "...                               ...  ...                              ...   \n",
       "227622                              0  ...                                0   \n",
       "227623                              0  ...                                0   \n",
       "227624                              0  ...                                0   \n",
       "227625                              0  ...                                0   \n",
       "227627                              0  ...                                0   \n",
       "\n",
       "        attribution_technical_podcast  attribution_technical_quora  \\\n",
       "2                                   0                            0   \n",
       "3                                   0                            0   \n",
       "4                                   0                            0   \n",
       "6                                   0                            0   \n",
       "7                                   0                            0   \n",
       "...                               ...                          ...   \n",
       "227622                              0                            0   \n",
       "227623                              0                            0   \n",
       "227624                              0                            0   \n",
       "227625                              0                            0   \n",
       "227627                              0                            0   \n",
       "\n",
       "        attribution_technical_referral  attribution_technical_samsung  \\\n",
       "2                                    0                              0   \n",
       "3                                    0                              0   \n",
       "4                                    0                              0   \n",
       "6                                    0                              0   \n",
       "7                                    0                              0   \n",
       "...                                ...                            ...   \n",
       "227622                               0                              0   \n",
       "227623                               0                              0   \n",
       "227624                               0                              0   \n",
       "227625                               0                              0   \n",
       "227627                               0                              0   \n",
       "\n",
       "        attribution_technical_search  attribution_technical_tv  \\\n",
       "2                                  0                         0   \n",
       "3                                  1                         0   \n",
       "4                                  0                         0   \n",
       "6                                  0                         0   \n",
       "7                                  0                         0   \n",
       "...                              ...                       ...   \n",
       "227622                             0                         0   \n",
       "227623                             0                         0   \n",
       "227624                             0                         0   \n",
       "227625                             0                         0   \n",
       "227627                             0                         0   \n",
       "\n",
       "        attribution_technical_vod  op_sys_Android  Clustering  \n",
       "2                               0               0           2  \n",
       "3                               0               1           1  \n",
       "4                               0               0           1  \n",
       "6                               0               1           0  \n",
       "7                               0               0           2  \n",
       "...                           ...             ...         ...  \n",
       "227622                          0               0           0  \n",
       "227623                          0               0           0  \n",
       "227624                          0               0           0  \n",
       "227625                          0               0           1  \n",
       "227627                          0               0           1  \n",
       "\n",
       "[144383 rows x 51 columns]"
      ]
     },
     "execution_count": 75,
     "metadata": {},
     "output_type": "execute_result"
    }
   ],
   "source": [
    "CustomerS2"
   ]
  },
  {
   "cell_type": "code",
   "execution_count": 76,
   "metadata": {},
   "outputs": [
    {
     "data": {
      "text/plain": [
       "0    64006\n",
       "1    50205\n",
       "2    30172\n",
       "Name: Clustering, dtype: int64"
      ]
     },
     "execution_count": 76,
     "metadata": {},
     "output_type": "execute_result"
    }
   ],
   "source": [
    "CustomerS2['Clustering'].value_counts()\n"
   ]
  },
  {
   "cell_type": "code",
   "execution_count": 77,
   "metadata": {},
   "outputs": [],
   "source": [
    "#CustomerS2.to_csv(\"CustomerS2_dummy.csv\")"
   ]
  },
  {
   "cell_type": "code",
   "execution_count": null,
   "metadata": {},
   "outputs": [],
   "source": []
  },
  {
   "cell_type": "code",
   "execution_count": null,
   "metadata": {},
   "outputs": [],
   "source": []
  },
  {
   "cell_type": "markdown",
   "metadata": {},
   "source": [
    "#### MinMax Clustering"
   ]
  },
  {
   "cell_type": "code",
   "execution_count": 56,
   "metadata": {},
   "outputs": [],
   "source": [
    "CustomerS3 = CustomerS.drop( fields_to_drop, axis = 1 )"
   ]
  },
  {
   "cell_type": "code",
   "execution_count": 57,
   "metadata": {},
   "outputs": [
    {
     "data": {
      "text/plain": [
       "(144383, 56)"
      ]
     },
     "execution_count": 57,
     "metadata": {},
     "output_type": "execute_result"
    }
   ],
   "source": [
    "CustomerS3.shape"
   ]
  },
  {
   "cell_type": "code",
   "execution_count": 60,
   "metadata": {},
   "outputs": [],
   "source": [
    "#CustomerS3 = CustomerS3.drop('package_type_enhanced', 1)\n",
    "#CustomerS3 = CustomerS3.drop('preferred_genre_regional', 1)\n",
    "#CustomerS3 = CustomerS3.drop('intended_use_supplement OTT', 1)\n",
    "#CustomerS3 = CustomerS3.drop('male_TF_False', 1)\n",
    "#CustomerS3 = CustomerS3.drop('attribution_technical_youtube', 1)\n",
    "#CustomerS3 = CustomerS3.drop('op_sys_iOS', 1)\n",
    "#CustomerS3"
   ]
  },
  {
   "cell_type": "code",
   "execution_count": 61,
   "metadata": {},
   "outputs": [],
   "source": [
    "feature_x = [tag for tag in CustomerS3.columns if tag not in ['subid']]\n",
    "X = CustomerS3[feature_x].values\n",
    "\n",
    "from sklearn.preprocessing import MinMaxScaler\n",
    "minmaxscaler = MinMaxScaler()\n",
    "X_scaled = minmaxscaler.fit_transform(X)\n",
    "\n"
   ]
  },
  {
   "cell_type": "code",
   "execution_count": 62,
   "metadata": {},
   "outputs": [
    {
     "name": "stdout",
     "output_type": "stream",
     "text": [
      "{2: 316839.83909417776, 3: 283540.6996796263, 4: 266790.9228795487, 5: 253289.58451648976, 6: 242605.10409120948, 7: 234256.72359294185, 8: 226524.68149611467, 9: 222724.18534495457, 10: 214404.82519131503, 11: 211196.6774404477, 12: 207767.0009927502, 13: 203595.0435988134, 14: 201429.18092098102, 15: 197110.73242109202, 16: 194584.37001912043, 17: 190472.23834454277, 18: 187251.80539744, 19: 185360.57325114432}\n"
     ]
    }
   ],
   "source": [
    "from sklearn.cluster import KMeans\n",
    "\n",
    "inertias = {}\n",
    "for k in range(2, 20):\n",
    "    kmeans = KMeans(n_clusters=k, random_state=2020)\n",
    "    kmeans.fit(X_scaled)\n",
    "    inertias[k] = kmeans.inertia_\n",
    "print(inertias) "
   ]
  },
  {
   "cell_type": "code",
   "execution_count": 64,
   "metadata": {},
   "outputs": [
    {
     "data": {
      "image/png": "[encoded data removed]",
      "text/plain": [
       "<Figure size 432x288 with 1 Axes>"
      ]
     },
     "metadata": {
      "needs_background": "light"
     },
     "output_type": "display_data"
    }
   ],
   "source": [
    "ax = plt.subplot()\n",
    "k=list(inertias.keys())\n",
    "v=list(inertias.values())\n",
    "ax.plot(k,v, '-*')\n",
    "ax.set_xticks(np.arange(1, 20))\n",
    "ax.grid()\n",
    "plt.show()"
   ]
  },
  {
   "cell_type": "code",
   "execution_count": null,
   "metadata": {},
   "outputs": [],
   "source": []
  },
  {
   "cell_type": "code",
   "execution_count": null,
   "metadata": {},
   "outputs": [],
   "source": []
  },
  {
   "cell_type": "code",
   "execution_count": null,
   "metadata": {},
   "outputs": [],
   "source": []
  },
  {
   "cell_type": "code",
   "execution_count": null,
   "metadata": {},
   "outputs": [],
   "source": []
  },
  {
   "cell_type": "code",
   "execution_count": null,
   "metadata": {},
   "outputs": [],
   "source": []
  },
  {
   "cell_type": "code",
   "execution_count": 2,
   "metadata": {},
   "outputs": [],
   "source": [
    "import numpy as np\n",
    "import pandas as pd\n",
    "import matplotlib.pyplot as plt"
   ]
  },
  {
   "cell_type": "code",
   "execution_count": 78,
   "metadata": {},
   "outputs": [
    {
     "data": {
      "text/html": [
       "<div>\n",
       "<style scoped>\n",
       "    .dataframe tbody tr th:only-of-type {\n",
       "        vertical-align: middle;\n",
       "    }\n",
       "\n",
       "    .dataframe tbody tr th {\n",
       "        vertical-align: top;\n",
       "    }\n",
       "\n",
       "    .dataframe thead th {\n",
       "        text-align: right;\n",
       "    }\n",
       "</style>\n",
       "<table border=\"1\" class=\"dataframe\">\n",
       "  <thead>\n",
       "    <tr style=\"text-align: right;\">\n",
       "      <th></th>\n",
       "      <th>Unnamed: 0</th>\n",
       "      <th>subid</th>\n",
       "      <th>package_type</th>\n",
       "      <th>num_weekly_services_utilized</th>\n",
       "      <th>preferred_genre</th>\n",
       "      <th>intended_use</th>\n",
       "      <th>weekly_consumption_hour</th>\n",
       "      <th>num_ideal_streaming_services</th>\n",
       "      <th>age</th>\n",
       "      <th>male_TF</th>\n",
       "      <th>attribution_technical</th>\n",
       "      <th>op_sys</th>\n",
       "      <th>Clustering</th>\n",
       "    </tr>\n",
       "  </thead>\n",
       "  <tbody>\n",
       "    <tr>\n",
       "      <th>0</th>\n",
       "      <td>2</td>\n",
       "      <td>26844789</td>\n",
       "      <td>enhanced</td>\n",
       "      <td>3.0</td>\n",
       "      <td>regional</td>\n",
       "      <td>replace OTT</td>\n",
       "      <td>36.001186</td>\n",
       "      <td>2.0</td>\n",
       "      <td>25.0</td>\n",
       "      <td>True</td>\n",
       "      <td>organic</td>\n",
       "      <td>iOS</td>\n",
       "      <td>2</td>\n",
       "    </tr>\n",
       "    <tr>\n",
       "      <th>1</th>\n",
       "      <td>3</td>\n",
       "      <td>29417030</td>\n",
       "      <td>base</td>\n",
       "      <td>3.0</td>\n",
       "      <td>drama</td>\n",
       "      <td>replace OTT</td>\n",
       "      <td>20.051667</td>\n",
       "      <td>3.0</td>\n",
       "      <td>30.0</td>\n",
       "      <td>False</td>\n",
       "      <td>search</td>\n",
       "      <td>Android</td>\n",
       "      <td>1</td>\n",
       "    </tr>\n",
       "    <tr>\n",
       "      <th>2</th>\n",
       "      <td>4</td>\n",
       "      <td>26723159</td>\n",
       "      <td>base</td>\n",
       "      <td>4.0</td>\n",
       "      <td>comedy</td>\n",
       "      <td>replace OTT</td>\n",
       "      <td>22.951579</td>\n",
       "      <td>3.0</td>\n",
       "      <td>28.0</td>\n",
       "      <td>False</td>\n",
       "      <td>discovery</td>\n",
       "      <td>iOS</td>\n",
       "      <td>1</td>\n",
       "    </tr>\n",
       "    <tr>\n",
       "      <th>3</th>\n",
       "      <td>6</td>\n",
       "      <td>29726122</td>\n",
       "      <td>base</td>\n",
       "      <td>2.0</td>\n",
       "      <td>comedy</td>\n",
       "      <td>access to exclusive content</td>\n",
       "      <td>20.051667</td>\n",
       "      <td>2.0</td>\n",
       "      <td>61.0</td>\n",
       "      <td>False</td>\n",
       "      <td>bing</td>\n",
       "      <td>Android</td>\n",
       "      <td>0</td>\n",
       "    </tr>\n",
       "    <tr>\n",
       "      <th>4</th>\n",
       "      <td>7</td>\n",
       "      <td>20299962</td>\n",
       "      <td>base</td>\n",
       "      <td>3.0</td>\n",
       "      <td>drama</td>\n",
       "      <td>access to exclusive content</td>\n",
       "      <td>34.551230</td>\n",
       "      <td>2.0</td>\n",
       "      <td>23.0</td>\n",
       "      <td>False</td>\n",
       "      <td>email</td>\n",
       "      <td>iOS</td>\n",
       "      <td>2</td>\n",
       "    </tr>\n",
       "  </tbody>\n",
       "</table>\n",
       "</div>"
      ],
      "text/plain": [
       "   Unnamed: 0     subid package_type  num_weekly_services_utilized  \\\n",
       "0           2  26844789     enhanced                           3.0   \n",
       "1           3  29417030         base                           3.0   \n",
       "2           4  26723159         base                           4.0   \n",
       "3           6  29726122         base                           2.0   \n",
       "4           7  20299962         base                           3.0   \n",
       "\n",
       "  preferred_genre                 intended_use  weekly_consumption_hour  \\\n",
       "0        regional                  replace OTT                36.001186   \n",
       "1           drama                  replace OTT                20.051667   \n",
       "2          comedy                  replace OTT                22.951579   \n",
       "3          comedy  access to exclusive content                20.051667   \n",
       "4           drama  access to exclusive content                34.551230   \n",
       "\n",
       "   num_ideal_streaming_services   age  male_TF attribution_technical   op_sys  \\\n",
       "0                           2.0  25.0     True               organic      iOS   \n",
       "1                           3.0  30.0    False                search  Android   \n",
       "2                           3.0  28.0    False             discovery      iOS   \n",
       "3                           2.0  61.0    False                  bing  Android   \n",
       "4                           2.0  23.0    False                 email      iOS   \n",
       "\n",
       "   Clustering  \n",
       "0           2  \n",
       "1           1  \n",
       "2           1  \n",
       "3           0  \n",
       "4           2  "
      ]
     },
     "execution_count": 78,
     "metadata": {},
     "output_type": "execute_result"
    }
   ],
   "source": [
    "CustomerS2_2 = pd.read_csv('CustomerS2_2.csv')\n",
    "CustomerS2_2.head()\n"
   ]
  },
  {
   "cell_type": "code",
   "execution_count": 84,
   "metadata": {},
   "outputs": [
    {
     "data": {
      "text/html": [
       "<div>\n",
       "<style scoped>\n",
       "    .dataframe tbody tr th:only-of-type {\n",
       "        vertical-align: middle;\n",
       "    }\n",
       "\n",
       "    .dataframe tbody tr th {\n",
       "        vertical-align: top;\n",
       "    }\n",
       "\n",
       "    .dataframe thead th {\n",
       "        text-align: right;\n",
       "    }\n",
       "</style>\n",
       "<table border=\"1\" class=\"dataframe\">\n",
       "  <thead>\n",
       "    <tr style=\"text-align: right;\">\n",
       "      <th></th>\n",
       "      <th>Unnamed: 0</th>\n",
       "      <th>subid</th>\n",
       "      <th>num_weekly_services_utilized</th>\n",
       "      <th>weekly_consumption_hour</th>\n",
       "      <th>num_ideal_streaming_services</th>\n",
       "      <th>age</th>\n",
       "      <th>package_type_base</th>\n",
       "      <th>package_type_economy</th>\n",
       "      <th>preferred_genre_comedy</th>\n",
       "      <th>preferred_genre_drama</th>\n",
       "      <th>...</th>\n",
       "      <th>attribution_technical_playstore</th>\n",
       "      <th>attribution_technical_podcast</th>\n",
       "      <th>attribution_technical_quora</th>\n",
       "      <th>attribution_technical_referral</th>\n",
       "      <th>attribution_technical_samsung</th>\n",
       "      <th>attribution_technical_search</th>\n",
       "      <th>attribution_technical_tv</th>\n",
       "      <th>attribution_technical_vod</th>\n",
       "      <th>op_sys_Android</th>\n",
       "      <th>Clustering</th>\n",
       "    </tr>\n",
       "  </thead>\n",
       "  <tbody>\n",
       "    <tr>\n",
       "      <th>0</th>\n",
       "      <td>2</td>\n",
       "      <td>26844789</td>\n",
       "      <td>3.0</td>\n",
       "      <td>36.001186</td>\n",
       "      <td>2.0</td>\n",
       "      <td>25.0</td>\n",
       "      <td>0</td>\n",
       "      <td>0</td>\n",
       "      <td>0</td>\n",
       "      <td>0</td>\n",
       "      <td>...</td>\n",
       "      <td>0</td>\n",
       "      <td>0</td>\n",
       "      <td>0</td>\n",
       "      <td>0</td>\n",
       "      <td>0</td>\n",
       "      <td>0</td>\n",
       "      <td>0</td>\n",
       "      <td>0</td>\n",
       "      <td>0</td>\n",
       "      <td>2</td>\n",
       "    </tr>\n",
       "    <tr>\n",
       "      <th>1</th>\n",
       "      <td>3</td>\n",
       "      <td>29417030</td>\n",
       "      <td>3.0</td>\n",
       "      <td>20.051667</td>\n",
       "      <td>3.0</td>\n",
       "      <td>30.0</td>\n",
       "      <td>1</td>\n",
       "      <td>0</td>\n",
       "      <td>0</td>\n",
       "      <td>1</td>\n",
       "      <td>...</td>\n",
       "      <td>0</td>\n",
       "      <td>0</td>\n",
       "      <td>0</td>\n",
       "      <td>0</td>\n",
       "      <td>0</td>\n",
       "      <td>1</td>\n",
       "      <td>0</td>\n",
       "      <td>0</td>\n",
       "      <td>1</td>\n",
       "      <td>1</td>\n",
       "    </tr>\n",
       "    <tr>\n",
       "      <th>2</th>\n",
       "      <td>4</td>\n",
       "      <td>26723159</td>\n",
       "      <td>4.0</td>\n",
       "      <td>22.951579</td>\n",
       "      <td>3.0</td>\n",
       "      <td>28.0</td>\n",
       "      <td>1</td>\n",
       "      <td>0</td>\n",
       "      <td>1</td>\n",
       "      <td>0</td>\n",
       "      <td>...</td>\n",
       "      <td>0</td>\n",
       "      <td>0</td>\n",
       "      <td>0</td>\n",
       "      <td>0</td>\n",
       "      <td>0</td>\n",
       "      <td>0</td>\n",
       "      <td>0</td>\n",
       "      <td>0</td>\n",
       "      <td>0</td>\n",
       "      <td>1</td>\n",
       "    </tr>\n",
       "    <tr>\n",
       "      <th>3</th>\n",
       "      <td>6</td>\n",
       "      <td>29726122</td>\n",
       "      <td>2.0</td>\n",
       "      <td>20.051667</td>\n",
       "      <td>2.0</td>\n",
       "      <td>61.0</td>\n",
       "      <td>1</td>\n",
       "      <td>0</td>\n",
       "      <td>1</td>\n",
       "      <td>0</td>\n",
       "      <td>...</td>\n",
       "      <td>0</td>\n",
       "      <td>0</td>\n",
       "      <td>0</td>\n",
       "      <td>0</td>\n",
       "      <td>0</td>\n",
       "      <td>0</td>\n",
       "      <td>0</td>\n",
       "      <td>0</td>\n",
       "      <td>1</td>\n",
       "      <td>0</td>\n",
       "    </tr>\n",
       "    <tr>\n",
       "      <th>4</th>\n",
       "      <td>7</td>\n",
       "      <td>20299962</td>\n",
       "      <td>3.0</td>\n",
       "      <td>34.551230</td>\n",
       "      <td>2.0</td>\n",
       "      <td>23.0</td>\n",
       "      <td>1</td>\n",
       "      <td>0</td>\n",
       "      <td>0</td>\n",
       "      <td>1</td>\n",
       "      <td>...</td>\n",
       "      <td>0</td>\n",
       "      <td>0</td>\n",
       "      <td>0</td>\n",
       "      <td>0</td>\n",
       "      <td>0</td>\n",
       "      <td>0</td>\n",
       "      <td>0</td>\n",
       "      <td>0</td>\n",
       "      <td>0</td>\n",
       "      <td>2</td>\n",
       "    </tr>\n",
       "  </tbody>\n",
       "</table>\n",
       "<p>5 rows × 52 columns</p>\n",
       "</div>"
      ],
      "text/plain": [
       "   Unnamed: 0     subid  num_weekly_services_utilized  \\\n",
       "0           2  26844789                           3.0   \n",
       "1           3  29417030                           3.0   \n",
       "2           4  26723159                           4.0   \n",
       "3           6  29726122                           2.0   \n",
       "4           7  20299962                           3.0   \n",
       "\n",
       "   weekly_consumption_hour  num_ideal_streaming_services   age  \\\n",
       "0                36.001186                           2.0  25.0   \n",
       "1                20.051667                           3.0  30.0   \n",
       "2                22.951579                           3.0  28.0   \n",
       "3                20.051667                           2.0  61.0   \n",
       "4                34.551230                           2.0  23.0   \n",
       "\n",
       "   package_type_base  package_type_economy  preferred_genre_comedy  \\\n",
       "0                  0                     0                       0   \n",
       "1                  1                     0                       0   \n",
       "2                  1                     0                       1   \n",
       "3                  1                     0                       1   \n",
       "4                  1                     0                       0   \n",
       "\n",
       "   preferred_genre_drama  ...  attribution_technical_playstore  \\\n",
       "0                      0  ...                                0   \n",
       "1                      1  ...                                0   \n",
       "2                      0  ...                                0   \n",
       "3                      0  ...                                0   \n",
       "4                      1  ...                                0   \n",
       "\n",
       "   attribution_technical_podcast  attribution_technical_quora  \\\n",
       "0                              0                            0   \n",
       "1                              0                            0   \n",
       "2                              0                            0   \n",
       "3                              0                            0   \n",
       "4                              0                            0   \n",
       "\n",
       "   attribution_technical_referral  attribution_technical_samsung  \\\n",
       "0                               0                              0   \n",
       "1                               0                              0   \n",
       "2                               0                              0   \n",
       "3                               0                              0   \n",
       "4                               0                              0   \n",
       "\n",
       "   attribution_technical_search  attribution_technical_tv  \\\n",
       "0                             0                         0   \n",
       "1                             1                         0   \n",
       "2                             0                         0   \n",
       "3                             0                         0   \n",
       "4                             0                         0   \n",
       "\n",
       "   attribution_technical_vod  op_sys_Android  Clustering  \n",
       "0                          0               0           2  \n",
       "1                          0               1           1  \n",
       "2                          0               0           1  \n",
       "3                          0               1           0  \n",
       "4                          0               0           2  \n",
       "\n",
       "[5 rows x 52 columns]"
      ]
     },
     "execution_count": 84,
     "metadata": {},
     "output_type": "execute_result"
    }
   ],
   "source": [
    "CustomerS2_dummy = pd.read_csv('CustomerS2_dummy.csv')\n",
    "CustomerS2_dummy.head()\n"
   ]
  },
  {
   "cell_type": "code",
   "execution_count": 83,
   "metadata": {},
   "outputs": [
    {
     "data": {
      "text/html": [
       "<div>\n",
       "<style scoped>\n",
       "    .dataframe tbody tr th:only-of-type {\n",
       "        vertical-align: middle;\n",
       "    }\n",
       "\n",
       "    .dataframe tbody tr th {\n",
       "        vertical-align: top;\n",
       "    }\n",
       "\n",
       "    .dataframe thead th {\n",
       "        text-align: right;\n",
       "    }\n",
       "</style>\n",
       "<table border=\"1\" class=\"dataframe\">\n",
       "  <thead>\n",
       "    <tr style=\"text-align: right;\">\n",
       "      <th></th>\n",
       "      <th>Unnamed: 0</th>\n",
       "      <th>subid</th>\n",
       "      <th>num_weekly_services_utilized</th>\n",
       "      <th>weekly_consumption_hour</th>\n",
       "      <th>num_ideal_streaming_services</th>\n",
       "      <th>age</th>\n",
       "      <th>male_TF</th>\n",
       "    </tr>\n",
       "    <tr>\n",
       "      <th>Clustering</th>\n",
       "      <th></th>\n",
       "      <th></th>\n",
       "      <th></th>\n",
       "      <th></th>\n",
       "      <th></th>\n",
       "      <th></th>\n",
       "      <th></th>\n",
       "    </tr>\n",
       "  </thead>\n",
       "  <tbody>\n",
       "    <tr>\n",
       "      <th>0</th>\n",
       "      <td>113741.006031</td>\n",
       "      <td>2.499801e+07</td>\n",
       "      <td>2.656595</td>\n",
       "      <td>26.040419</td>\n",
       "      <td>1.999016</td>\n",
       "      <td>45.498275</td>\n",
       "      <td>0.018764</td>\n",
       "    </tr>\n",
       "    <tr>\n",
       "      <th>1</th>\n",
       "      <td>113701.684314</td>\n",
       "      <td>2.499467e+07</td>\n",
       "      <td>3.064715</td>\n",
       "      <td>27.081551</td>\n",
       "      <td>3.000299</td>\n",
       "      <td>45.875789</td>\n",
       "      <td>0.076765</td>\n",
       "    </tr>\n",
       "    <tr>\n",
       "      <th>2</th>\n",
       "      <td>114400.686862</td>\n",
       "      <td>2.499638e+07</td>\n",
       "      <td>3.653851</td>\n",
       "      <td>33.990364</td>\n",
       "      <td>2.233296</td>\n",
       "      <td>45.356291</td>\n",
       "      <td>0.478788</td>\n",
       "    </tr>\n",
       "  </tbody>\n",
       "</table>\n",
       "</div>"
      ],
      "text/plain": [
       "               Unnamed: 0         subid  num_weekly_services_utilized  \\\n",
       "Clustering                                                              \n",
       "0           113741.006031  2.499801e+07                      2.656595   \n",
       "1           113701.684314  2.499467e+07                      3.064715   \n",
       "2           114400.686862  2.499638e+07                      3.653851   \n",
       "\n",
       "            weekly_consumption_hour  num_ideal_streaming_services        age  \\\n",
       "Clustering                                                                     \n",
       "0                         26.040419                      1.999016  45.498275   \n",
       "1                         27.081551                      3.000299  45.875789   \n",
       "2                         33.990364                      2.233296  45.356291   \n",
       "\n",
       "             male_TF  \n",
       "Clustering            \n",
       "0           0.018764  \n",
       "1           0.076765  \n",
       "2           0.478788  "
      ]
     },
     "execution_count": 83,
     "metadata": {},
     "output_type": "execute_result"
    }
   ],
   "source": [
    "CustomerS2_2.groupby('Clustering').mean()"
   ]
  },
  {
   "cell_type": "code",
   "execution_count": 85,
   "metadata": {},
   "outputs": [
    {
     "data": {
      "text/html": [
       "<div>\n",
       "<style scoped>\n",
       "    .dataframe tbody tr th:only-of-type {\n",
       "        vertical-align: middle;\n",
       "    }\n",
       "\n",
       "    .dataframe tbody tr th {\n",
       "        vertical-align: top;\n",
       "    }\n",
       "\n",
       "    .dataframe thead th {\n",
       "        text-align: right;\n",
       "    }\n",
       "</style>\n",
       "<table border=\"1\" class=\"dataframe\">\n",
       "  <thead>\n",
       "    <tr style=\"text-align: right;\">\n",
       "      <th></th>\n",
       "      <th>Unnamed: 0</th>\n",
       "      <th>subid</th>\n",
       "      <th>num_weekly_services_utilized</th>\n",
       "      <th>weekly_consumption_hour</th>\n",
       "      <th>num_ideal_streaming_services</th>\n",
       "      <th>age</th>\n",
       "      <th>package_type_base</th>\n",
       "      <th>package_type_economy</th>\n",
       "      <th>preferred_genre_comedy</th>\n",
       "      <th>preferred_genre_drama</th>\n",
       "      <th>...</th>\n",
       "      <th>attribution_technical_pinterest_organic</th>\n",
       "      <th>attribution_technical_playstore</th>\n",
       "      <th>attribution_technical_podcast</th>\n",
       "      <th>attribution_technical_quora</th>\n",
       "      <th>attribution_technical_referral</th>\n",
       "      <th>attribution_technical_samsung</th>\n",
       "      <th>attribution_technical_search</th>\n",
       "      <th>attribution_technical_tv</th>\n",
       "      <th>attribution_technical_vod</th>\n",
       "      <th>op_sys_Android</th>\n",
       "    </tr>\n",
       "    <tr>\n",
       "      <th>Clustering</th>\n",
       "      <th></th>\n",
       "      <th></th>\n",
       "      <th></th>\n",
       "      <th></th>\n",
       "      <th></th>\n",
       "      <th></th>\n",
       "      <th></th>\n",
       "      <th></th>\n",
       "      <th></th>\n",
       "      <th></th>\n",
       "      <th></th>\n",
       "      <th></th>\n",
       "      <th></th>\n",
       "      <th></th>\n",
       "      <th></th>\n",
       "      <th></th>\n",
       "      <th></th>\n",
       "      <th></th>\n",
       "      <th></th>\n",
       "      <th></th>\n",
       "      <th></th>\n",
       "    </tr>\n",
       "  </thead>\n",
       "  <tbody>\n",
       "    <tr>\n",
       "      <th>0</th>\n",
       "      <td>113741.006031</td>\n",
       "      <td>2.499801e+07</td>\n",
       "      <td>2.656595</td>\n",
       "      <td>26.040419</td>\n",
       "      <td>1.999016</td>\n",
       "      <td>45.498275</td>\n",
       "      <td>0.564713</td>\n",
       "      <td>0.092632</td>\n",
       "      <td>0.685717</td>\n",
       "      <td>0.203731</td>\n",
       "      <td>...</td>\n",
       "      <td>0.000172</td>\n",
       "      <td>0.000047</td>\n",
       "      <td>0.005593</td>\n",
       "      <td>0.000641</td>\n",
       "      <td>0.026716</td>\n",
       "      <td>0.000031</td>\n",
       "      <td>0.120786</td>\n",
       "      <td>0.000016</td>\n",
       "      <td>0.001625</td>\n",
       "      <td>0.319329</td>\n",
       "    </tr>\n",
       "    <tr>\n",
       "      <th>1</th>\n",
       "      <td>113701.684314</td>\n",
       "      <td>2.499467e+07</td>\n",
       "      <td>3.064715</td>\n",
       "      <td>27.081551</td>\n",
       "      <td>3.000299</td>\n",
       "      <td>45.875789</td>\n",
       "      <td>0.551897</td>\n",
       "      <td>0.092959</td>\n",
       "      <td>0.639558</td>\n",
       "      <td>0.260611</td>\n",
       "      <td>...</td>\n",
       "      <td>0.000239</td>\n",
       "      <td>0.000040</td>\n",
       "      <td>0.004860</td>\n",
       "      <td>0.000578</td>\n",
       "      <td>0.011792</td>\n",
       "      <td>0.000020</td>\n",
       "      <td>0.141659</td>\n",
       "      <td>0.000040</td>\n",
       "      <td>0.002151</td>\n",
       "      <td>0.375122</td>\n",
       "    </tr>\n",
       "    <tr>\n",
       "      <th>2</th>\n",
       "      <td>114400.686862</td>\n",
       "      <td>2.499638e+07</td>\n",
       "      <td>3.653851</td>\n",
       "      <td>33.990364</td>\n",
       "      <td>2.233296</td>\n",
       "      <td>45.356291</td>\n",
       "      <td>0.542490</td>\n",
       "      <td>0.109936</td>\n",
       "      <td>0.505535</td>\n",
       "      <td>0.331930</td>\n",
       "      <td>...</td>\n",
       "      <td>0.000099</td>\n",
       "      <td>0.000133</td>\n",
       "      <td>0.008418</td>\n",
       "      <td>0.000729</td>\n",
       "      <td>0.029730</td>\n",
       "      <td>0.000033</td>\n",
       "      <td>0.139765</td>\n",
       "      <td>0.000033</td>\n",
       "      <td>0.002022</td>\n",
       "      <td>0.379259</td>\n",
       "    </tr>\n",
       "  </tbody>\n",
       "</table>\n",
       "<p>3 rows × 51 columns</p>\n",
       "</div>"
      ],
      "text/plain": [
       "               Unnamed: 0         subid  num_weekly_services_utilized  \\\n",
       "Clustering                                                              \n",
       "0           113741.006031  2.499801e+07                      2.656595   \n",
       "1           113701.684314  2.499467e+07                      3.064715   \n",
       "2           114400.686862  2.499638e+07                      3.653851   \n",
       "\n",
       "            weekly_consumption_hour  num_ideal_streaming_services        age  \\\n",
       "Clustering                                                                     \n",
       "0                         26.040419                      1.999016  45.498275   \n",
       "1                         27.081551                      3.000299  45.875789   \n",
       "2                         33.990364                      2.233296  45.356291   \n",
       "\n",
       "            package_type_base  package_type_economy  preferred_genre_comedy  \\\n",
       "Clustering                                                                    \n",
       "0                    0.564713              0.092632                0.685717   \n",
       "1                    0.551897              0.092959                0.639558   \n",
       "2                    0.542490              0.109936                0.505535   \n",
       "\n",
       "            preferred_genre_drama  ...  \\\n",
       "Clustering                         ...   \n",
       "0                        0.203731  ...   \n",
       "1                        0.260611  ...   \n",
       "2                        0.331930  ...   \n",
       "\n",
       "            attribution_technical_pinterest_organic  \\\n",
       "Clustering                                            \n",
       "0                                          0.000172   \n",
       "1                                          0.000239   \n",
       "2                                          0.000099   \n",
       "\n",
       "            attribution_technical_playstore  attribution_technical_podcast  \\\n",
       "Clustering                                                                   \n",
       "0                                  0.000047                       0.005593   \n",
       "1                                  0.000040                       0.004860   \n",
       "2                                  0.000133                       0.008418   \n",
       "\n",
       "            attribution_technical_quora  attribution_technical_referral  \\\n",
       "Clustering                                                                \n",
       "0                              0.000641                        0.026716   \n",
       "1                              0.000578                        0.011792   \n",
       "2                              0.000729                        0.029730   \n",
       "\n",
       "            attribution_technical_samsung  attribution_technical_search  \\\n",
       "Clustering                                                                \n",
       "0                                0.000031                      0.120786   \n",
       "1                                0.000020                      0.141659   \n",
       "2                                0.000033                      0.139765   \n",
       "\n",
       "            attribution_technical_tv  attribution_technical_vod  \\\n",
       "Clustering                                                        \n",
       "0                           0.000016                   0.001625   \n",
       "1                           0.000040                   0.002151   \n",
       "2                           0.000033                   0.002022   \n",
       "\n",
       "            op_sys_Android  \n",
       "Clustering                  \n",
       "0                 0.319329  \n",
       "1                 0.375122  \n",
       "2                 0.379259  \n",
       "\n",
       "[3 rows x 51 columns]"
      ]
     },
     "execution_count": 85,
     "metadata": {},
     "output_type": "execute_result"
    }
   ],
   "source": [
    "CustomerS2_dummy.groupby('Clustering').mean()"
   ]
  },
  {
   "cell_type": "code",
   "execution_count": null,
   "metadata": {},
   "outputs": [],
   "source": []
  },
  {
   "cell_type": "code",
   "execution_count": 91,
   "metadata": {},
   "outputs": [],
   "source": [
    "ChurnData6 = pd.read_csv('ChurnData6.csv')"
   ]
  },
  {
   "cell_type": "code",
   "execution_count": null,
   "metadata": {},
   "outputs": [],
   "source": [
    "\n"
   ]
  },
  {
   "cell_type": "code",
   "execution_count": 113,
   "metadata": {},
   "outputs": [],
   "source": [
    "CustomerS4 = pd.merge(ChurnData6, CustomerS2_2, on='subid', how='left')"
   ]
  },
  {
   "cell_type": "code",
   "execution_count": 114,
   "metadata": {},
   "outputs": [
    {
     "data": {
      "text/html": [
       "<div>\n",
       "<style scoped>\n",
       "    .dataframe tbody tr th:only-of-type {\n",
       "        vertical-align: middle;\n",
       "    }\n",
       "\n",
       "    .dataframe tbody tr th {\n",
       "        vertical-align: top;\n",
       "    }\n",
       "\n",
       "    .dataframe thead th {\n",
       "        text-align: right;\n",
       "    }\n",
       "</style>\n",
       "<table border=\"1\" class=\"dataframe\">\n",
       "  <thead>\n",
       "    <tr style=\"text-align: right;\">\n",
       "      <th></th>\n",
       "      <th>Unnamed: 0_x</th>\n",
       "      <th>subid</th>\n",
       "      <th>join_fee</th>\n",
       "      <th>churn</th>\n",
       "      <th>initial_credit_card_declined_False</th>\n",
       "      <th>Unnamed: 0.1</th>\n",
       "      <th>num_weekly_services_utilized_x</th>\n",
       "      <th>weekly_consumption_hour_x</th>\n",
       "      <th>num_ideal_streaming_services_x</th>\n",
       "      <th>age_x</th>\n",
       "      <th>...</th>\n",
       "      <th>package_type</th>\n",
       "      <th>num_weekly_services_utilized_y</th>\n",
       "      <th>preferred_genre</th>\n",
       "      <th>intended_use</th>\n",
       "      <th>weekly_consumption_hour_y</th>\n",
       "      <th>num_ideal_streaming_services_y</th>\n",
       "      <th>age_y</th>\n",
       "      <th>male_TF</th>\n",
       "      <th>attribution_technical</th>\n",
       "      <th>op_sys</th>\n",
       "    </tr>\n",
       "    <tr>\n",
       "      <th>Clustering</th>\n",
       "      <th></th>\n",
       "      <th></th>\n",
       "      <th></th>\n",
       "      <th></th>\n",
       "      <th></th>\n",
       "      <th></th>\n",
       "      <th></th>\n",
       "      <th></th>\n",
       "      <th></th>\n",
       "      <th></th>\n",
       "      <th></th>\n",
       "      <th></th>\n",
       "      <th></th>\n",
       "      <th></th>\n",
       "      <th></th>\n",
       "      <th></th>\n",
       "      <th></th>\n",
       "      <th></th>\n",
       "      <th></th>\n",
       "      <th></th>\n",
       "      <th></th>\n",
       "    </tr>\n",
       "  </thead>\n",
       "  <tbody>\n",
       "    <tr>\n",
       "      <th>0</th>\n",
       "      <td>60991</td>\n",
       "      <td>60991</td>\n",
       "      <td>60991</td>\n",
       "      <td>60991</td>\n",
       "      <td>60991</td>\n",
       "      <td>60991</td>\n",
       "      <td>60991</td>\n",
       "      <td>60991</td>\n",
       "      <td>60991</td>\n",
       "      <td>60991</td>\n",
       "      <td>...</td>\n",
       "      <td>60991</td>\n",
       "      <td>60991</td>\n",
       "      <td>60991</td>\n",
       "      <td>60991</td>\n",
       "      <td>60991</td>\n",
       "      <td>60991</td>\n",
       "      <td>60991</td>\n",
       "      <td>60991</td>\n",
       "      <td>60991</td>\n",
       "      <td>60991</td>\n",
       "    </tr>\n",
       "    <tr>\n",
       "      <th>1</th>\n",
       "      <td>47930</td>\n",
       "      <td>47930</td>\n",
       "      <td>47930</td>\n",
       "      <td>47930</td>\n",
       "      <td>47930</td>\n",
       "      <td>47930</td>\n",
       "      <td>47930</td>\n",
       "      <td>47930</td>\n",
       "      <td>47930</td>\n",
       "      <td>47930</td>\n",
       "      <td>...</td>\n",
       "      <td>47930</td>\n",
       "      <td>47930</td>\n",
       "      <td>47930</td>\n",
       "      <td>47930</td>\n",
       "      <td>47930</td>\n",
       "      <td>47930</td>\n",
       "      <td>47930</td>\n",
       "      <td>47930</td>\n",
       "      <td>47930</td>\n",
       "      <td>47930</td>\n",
       "    </tr>\n",
       "    <tr>\n",
       "      <th>2</th>\n",
       "      <td>28417</td>\n",
       "      <td>28417</td>\n",
       "      <td>28417</td>\n",
       "      <td>28417</td>\n",
       "      <td>28417</td>\n",
       "      <td>28417</td>\n",
       "      <td>28417</td>\n",
       "      <td>28417</td>\n",
       "      <td>28417</td>\n",
       "      <td>28417</td>\n",
       "      <td>...</td>\n",
       "      <td>28417</td>\n",
       "      <td>28417</td>\n",
       "      <td>28417</td>\n",
       "      <td>28417</td>\n",
       "      <td>28417</td>\n",
       "      <td>28417</td>\n",
       "      <td>28417</td>\n",
       "      <td>28417</td>\n",
       "      <td>28417</td>\n",
       "      <td>28417</td>\n",
       "    </tr>\n",
       "  </tbody>\n",
       "</table>\n",
       "<p>3 rows × 66 columns</p>\n",
       "</div>"
      ],
      "text/plain": [
       "            Unnamed: 0_x  subid  join_fee  churn  \\\n",
       "Clustering                                         \n",
       "0                  60991  60991     60991  60991   \n",
       "1                  47930  47930     47930  47930   \n",
       "2                  28417  28417     28417  28417   \n",
       "\n",
       "            initial_credit_card_declined_False  Unnamed: 0.1  \\\n",
       "Clustering                                                     \n",
       "0                                        60991         60991   \n",
       "1                                        47930         47930   \n",
       "2                                        28417         28417   \n",
       "\n",
       "            num_weekly_services_utilized_x  weekly_consumption_hour_x  \\\n",
       "Clustering                                                              \n",
       "0                                    60991                      60991   \n",
       "1                                    47930                      47930   \n",
       "2                                    28417                      28417   \n",
       "\n",
       "            num_ideal_streaming_services_x  age_x  ...  package_type  \\\n",
       "Clustering                                         ...                 \n",
       "0                                    60991  60991  ...         60991   \n",
       "1                                    47930  47930  ...         47930   \n",
       "2                                    28417  28417  ...         28417   \n",
       "\n",
       "            num_weekly_services_utilized_y  preferred_genre  intended_use  \\\n",
       "Clustering                                                                  \n",
       "0                                    60991            60991         60991   \n",
       "1                                    47930            47930         47930   \n",
       "2                                    28417            28417         28417   \n",
       "\n",
       "            weekly_consumption_hour_y  num_ideal_streaming_services_y  age_y  \\\n",
       "Clustering                                                                     \n",
       "0                               60991                           60991  60991   \n",
       "1                               47930                           47930  47930   \n",
       "2                               28417                           28417  28417   \n",
       "\n",
       "            male_TF  attribution_technical  op_sys  \n",
       "Clustering                                          \n",
       "0             60991                  60991   60991  \n",
       "1             47930                  47930   47930  \n",
       "2             28417                  28417   28417  \n",
       "\n",
       "[3 rows x 66 columns]"
      ]
     },
     "execution_count": 114,
     "metadata": {},
     "output_type": "execute_result"
    }
   ],
   "source": [
    "CustomerS4.groupby('Clustering').count()"
   ]
  },
  {
   "cell_type": "code",
   "execution_count": 139,
   "metadata": {},
   "outputs": [],
   "source": [
    "Cluster0 = CustomerS4[CustomerS4['Clustering']==0]"
   ]
  },
  {
   "cell_type": "code",
   "execution_count": 126,
   "metadata": {},
   "outputs": [],
   "source": [
    "Cluster0.to_csv(\"Cluster0.csv\")"
   ]
  },
  {
   "cell_type": "code",
   "execution_count": 140,
   "metadata": {},
   "outputs": [
    {
     "data": {
      "text/plain": [
       "0    37782\n",
       "1    23209\n",
       "Name: churn, dtype: int64"
      ]
     },
     "execution_count": 140,
     "metadata": {},
     "output_type": "execute_result"
    }
   ],
   "source": [
    "Cluster0['churn'].value_counts()"
   ]
  },
  {
   "cell_type": "code",
   "execution_count": 141,
   "metadata": {},
   "outputs": [],
   "source": [
    "Cluster1 = CustomerS4[CustomerS4['Clustering']==1]"
   ]
  },
  {
   "cell_type": "code",
   "execution_count": 142,
   "metadata": {},
   "outputs": [
    {
     "data": {
      "text/plain": [
       "0    32503\n",
       "1    15427\n",
       "Name: churn, dtype: int64"
      ]
     },
     "execution_count": 142,
     "metadata": {},
     "output_type": "execute_result"
    }
   ],
   "source": [
    "Cluster1['churn'].value_counts()"
   ]
  },
  {
   "cell_type": "code",
   "execution_count": 143,
   "metadata": {},
   "outputs": [],
   "source": [
    "Cluster2 = CustomerS4[CustomerS4['Clustering']==2]"
   ]
  },
  {
   "cell_type": "code",
   "execution_count": 144,
   "metadata": {},
   "outputs": [
    {
     "data": {
      "text/plain": [
       "0    21413\n",
       "1     7004\n",
       "Name: churn, dtype: int64"
      ]
     },
     "execution_count": 144,
     "metadata": {},
     "output_type": "execute_result"
    }
   ],
   "source": [
    "Cluster2['churn'].value_counts()"
   ]
  },
  {
   "cell_type": "code",
   "execution_count": null,
   "metadata": {},
   "outputs": [],
   "source": []
  },
  {
   "cell_type": "code",
   "execution_count": null,
   "metadata": {},
   "outputs": [],
   "source": []
  },
  {
   "cell_type": "code",
   "execution_count": 186,
   "metadata": {},
   "outputs": [
    {
     "data": {
      "text/plain": [
       "access to exclusive content    20991\n",
       "replace OTT                    17995\n",
       "supplement OTT                  7337\n",
       "other                           1509\n",
       "expand regional access            44\n",
       "expand international access       41\n",
       "education                         13\n",
       "Name: intended_use, dtype: int64"
      ]
     },
     "execution_count": 186,
     "metadata": {},
     "output_type": "execute_result"
    }
   ],
   "source": [
    "Cluster1['intended_use'].value_counts()"
   ]
  },
  {
   "cell_type": "code",
   "execution_count": 124,
   "metadata": {},
   "outputs": [
    {
     "data": {
      "text/plain": [
       "count    47930.000000\n",
       "mean        45.890507\n",
       "std         14.524095\n",
       "min         16.000000\n",
       "25%         34.000000\n",
       "50%         46.000000\n",
       "75%         57.000000\n",
       "max         99.000000\n",
       "Name: age_y, dtype: float64"
      ]
     },
     "execution_count": 124,
     "metadata": {},
     "output_type": "execute_result"
    }
   ],
   "source": [
    "Cluster1['age_y'].describe()"
   ]
  },
  {
   "cell_type": "code",
   "execution_count": 125,
   "metadata": {
    "collapsed": true
   },
   "outputs": [
    {
     "data": {
      "text/plain": [
       "count    47930.000000\n",
       "mean        45.890507\n",
       "std         14.524095\n",
       "min         16.000000\n",
       "25%         34.000000\n",
       "50%         46.000000\n",
       "75%         57.000000\n",
       "max         99.000000\n",
       "Name: age_y, dtype: float64"
      ]
     },
     "execution_count": 125,
     "metadata": {},
     "output_type": "execute_result"
    }
   ],
   "source": [
    "Cluster2['age_y'].describe()"
   ]
  },
  {
   "cell_type": "code",
   "execution_count": 146,
   "metadata": {},
   "outputs": [
    {
     "data": {
      "text/plain": [
       "False    14943\n",
       "True     13474\n",
       "Name: male_TF, dtype: int64"
      ]
     },
     "execution_count": 146,
     "metadata": {},
     "output_type": "execute_result"
    }
   ],
   "source": [
    "Cluster2['male_TF'].value_counts()"
   ]
  },
  {
   "cell_type": "code",
   "execution_count": 149,
   "metadata": {},
   "outputs": [
    {
     "data": {
      "text/plain": [
       "iOS        17640\n",
       "Android    10777\n",
       "Name: op_sys, dtype: int64"
      ]
     },
     "execution_count": 149,
     "metadata": {},
     "output_type": "execute_result"
    }
   ],
   "source": [
    "Cluster2['op_sys'].value_counts()"
   ]
  },
  {
   "cell_type": "code",
   "execution_count": 155,
   "metadata": {},
   "outputs": [
    {
     "data": {
      "text/plain": [
       "count    47930.000000\n",
       "mean         3.000313\n",
       "std          0.026238\n",
       "min          3.000000\n",
       "25%          3.000000\n",
       "50%          3.000000\n",
       "75%          3.000000\n",
       "max          7.000000\n",
       "Name: num_ideal_streaming_services_y, dtype: float64"
      ]
     },
     "execution_count": 155,
     "metadata": {},
     "output_type": "execute_result"
    }
   ],
   "source": [
    "Cluster1['num_ideal_streaming_services_y'].describe()"
   ]
  },
  {
   "cell_type": "code",
   "execution_count": 173,
   "metadata": {},
   "outputs": [
    {
     "data": {
      "text/plain": [
       "comedy           14321\n",
       "drama             9454\n",
       "regional          2002\n",
       "international     1693\n",
       "other              947\n",
       "Name: preferred_genre, dtype: int64"
      ]
     },
     "execution_count": 173,
     "metadata": {},
     "output_type": "execute_result"
    }
   ],
   "source": [
    "Cluster2['preferred_genre'].value_counts()"
   ]
  },
  {
   "cell_type": "code",
   "execution_count": null,
   "metadata": {},
   "outputs": [],
   "source": [
    "package_type"
   ]
  },
  {
   "cell_type": "code",
   "execution_count": 174,
   "metadata": {},
   "outputs": [
    {
     "data": {
      "text/plain": [
       "base        15396\n",
       "enhanced     9898\n",
       "economy      3123\n",
       "Name: package_type, dtype: int64"
      ]
     },
     "execution_count": 174,
     "metadata": {},
     "output_type": "execute_result"
    }
   ],
   "source": [
    "Cluster2['package_type'].value_counts()"
   ]
  },
  {
   "cell_type": "code",
   "execution_count": 177,
   "metadata": {},
   "outputs": [
    {
     "data": {
      "text/plain": [
       "count    28417.000000\n",
       "mean        33.963124\n",
       "std          4.590962\n",
       "min         20.051667\n",
       "25%         31.651317\n",
       "50%         33.101274\n",
       "75%         37.451142\n",
       "max         76.599962\n",
       "Name: weekly_consumption_hour_y, dtype: float64"
      ]
     },
     "execution_count": 177,
     "metadata": {},
     "output_type": "execute_result"
    }
   ],
   "source": [
    "Cluster2['weekly_consumption_hour_y'].describe()"
   ]
  },
  {
   "cell_type": "code",
   "execution_count": null,
   "metadata": {},
   "outputs": [],
   "source": [
    "weekly_consumption_hour_y"
   ]
  }
 ],
 "metadata": {
  "kernelspec": {
   "display_name": "Python 3",
   "language": "python",
   "name": "python3"
  },
  "language_info": {
   "codemirror_mode": {
    "name": "ipython",
    "version": 3
   },
   "file_extension": ".py",
   "mimetype": "text/x-python",
   "name": "python",
   "nbconvert_exporter": "python",
   "pygments_lexer": "ipython3",
   "version": "3.8.3"
  }
 },
 "nbformat": 4,
 "nbformat_minor": 4
}
